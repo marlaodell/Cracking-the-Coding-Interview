{
 "cells": [
  {
   "cell_type": "markdown",
   "metadata": {},
   "source": [
    "# Chapter 1 - Strings and Arrays\n",
    "Marla Odell"
   ]
  },
  {
   "cell_type": "markdown",
   "metadata": {},
   "source": [
    "**(1.1) Is Unique:**\n",
    "Implement an algorithm to determine if a string (s) has all unique characters. What if you cannot use additional data structures?"
   ]
  },
  {
   "cell_type": "code",
   "execution_count": 1,
   "metadata": {},
   "outputs": [],
   "source": [
    "#Using built-in additional data structure (set)\n",
    "def is_unique_v1(string):\n",
    "    return len(string) == len(set(string))\n",
    "\n",
    "#Using built-in additional data structure (dict)\n",
    "def is_unique_v2(string):\n",
    "    freq = dict()\n",
    "    for char in string:\n",
    "        if char in freq:\n",
    "            return False\n",
    "        freq[char] = 1\n",
    "    return True\n",
    "\n",
    "#Not using built-in data structure\n",
    "def is_unique_v3(string):\n",
    "    freq = [0]*(128-32) #Count of printable Ascii values\n",
    "    for char in string:\n",
    "        if freq[ord(char)-32] != 0:\n",
    "            return False\n",
    "        freq[ord(char)-32] = 1\n",
    "    return True"
   ]
  },
  {
   "cell_type": "markdown",
   "metadata": {},
   "source": [
    "**(1.2) Check Permutation:**\n",
    "Given two strings, write a method to decide if one is a permutation of the other."
   ]
  },
  {
   "cell_type": "code",
   "execution_count": 2,
   "metadata": {},
   "outputs": [],
   "source": [
    "#Using string sorting\n",
    "def check_permutation_v1(string_1, string_2):\n",
    "    return sorted(string_1) == sorted(string_2)\n",
    "\n",
    "#Using frequency tables\n",
    "def build_freq_dict(string):\n",
    "    freq = dict()\n",
    "    for char in string:\n",
    "        if char in freq: freq[char] += 1\n",
    "        else: freq[char] = 1\n",
    "    return freq    \n",
    "\n",
    "def check_permutation_v2(string_1, string_2):\n",
    "    freq_1, freq_2 = build_freq_dict(string_1), build_freq_dict(string_2)\n",
    "    for k, v in freq_1.items():\n",
    "        if k not in freq_2 or freq_2[k] != v:\n",
    "            return False\n",
    "    return True"
   ]
  },
  {
   "cell_type": "markdown",
   "metadata": {},
   "source": [
    "**(1.3) URLify:**\n",
    "Write a method to replace all spaces in a string with '%20'. You may assume that the string has sufficient space at the end to hold the additional characters, and that you are given the \"true\" length of the string. (Note: if implementing in Java, please use a character array so that you can perform this operation in place.)"
   ]
  },
  {
   "cell_type": "code",
   "execution_count": 3,
   "metadata": {},
   "outputs": [],
   "source": [
    "#Using built-in function \n",
    "def URLify_v1(string, length):\n",
    "    return string.rstrip().replace(\" \", \"%20\") #Remove trailing spaces, replace contained spaces\n",
    "\n",
    "URLify_v1(\"Mr John Smith    \", 13)\n",
    "\n",
    "#Non in-place solution \n",
    "def URLify_v2(string, length):\n",
    "    output = \"\"\n",
    "    for i in range(length):\n",
    "        if string[i] == \" \": output += \"%20\"\n",
    "        else: output += string[i]\n",
    "    return output\n",
    "\n",
    "#In-place solution (leveraging appropriately sized string)\n",
    "def URLify_v3(string, length):\n",
    "    adjusted_i = string.count(\" \", 0, length) * 2 + length #final length of string\n",
    "    string = list(string) #change to a mutable type\n",
    "    for i in reversed(range(length)):\n",
    "        if string[i] == ' ':\n",
    "            string[adjusted_i - 3: adjusted_i] = '%20'\n",
    "            adjusted_i -= 3\n",
    "        else:\n",
    "            string[adjusted_i - 1] = string[i]\n",
    "            adjusted_i -= 1\n",
    "    return ''.join(string)"
   ]
  },
  {
   "cell_type": "markdown",
   "metadata": {},
   "source": [
    "**(1.4) Palindrome Permutation:**\n",
    "Given a string, write a function to check if it is a permutation of a palindrome. A palindrome is a word or phrase that is the same forwards and backwards. A permutation is a rearrangement of letters. The palindrome does not need to be limited to just dictionary words."
   ]
  },
  {
   "cell_type": "code",
   "execution_count": 4,
   "metadata": {},
   "outputs": [],
   "source": [
    "def is_letter(char):\n",
    "    return (65 < ord(char) < 91) \\\n",
    "        or (96 < ord(char) < 123)  #Uppercase or lowercase letter\n",
    "\n",
    "def palindrome_permutation(string):\n",
    "    freq = build_freq_dict(string) #Defined from 1.2\n",
    "    odd_count = 0\n",
    "    for char, count in freq.items():\n",
    "        if is_letter(char) and count % 2 != 0:\n",
    "            odd_count += 1\n",
    "    return odd_count < 2"
   ]
  },
  {
   "cell_type": "markdown",
   "metadata": {},
   "source": [
    "**(1.5) One Away:**\n",
    "There are three types of edits that can be performed on strings: insert a character, remove a character, or replace a character. Given two strings, write a function to check if they are one edit (or zero edits) away."
   ]
  },
  {
   "cell_type": "code",
   "execution_count": 5,
   "metadata": {},
   "outputs": [],
   "source": [
    "def replace(string_1, string_2):\n",
    "    differences = 0\n",
    "    for i in range(len(string_1)):\n",
    "        if string_1[i] != string_2[i]:\n",
    "            differences += 1\n",
    "    return differences == 1\n",
    "\n",
    "def insert_remove(string_1, string_2):\n",
    "    shorter, longer = sorted([string_1, string_2], key=len)\n",
    "    for i in range(len(longer)):\n",
    "        if (shorter[:i] == longer[:i]) and (shorter[i:] == longer[i+1:]):\n",
    "            return True\n",
    "    return False\n",
    "\n",
    "def one_away(string_1, string_2):\n",
    "    length_diff = abs(len(string_1) - len(string_2))\n",
    "    if length_diff == 0: return replace(string_1, string_2)\n",
    "    elif length_diff == 1: return insert_remove(string_1, string_2)\n",
    "    else: return False"
   ]
  },
  {
   "cell_type": "markdown",
   "metadata": {},
   "source": [
    "**(1.6) String Compression:**\n",
    "Implement a method to perform basic string compression using the counts of repeated characters. For example, the string aabcccccaaa would become a2b1c5a3. If the \"compressed\" string would not become smaller than the original string, your method should return the original string. You can assume the string has only uppercase and lowercase letters (a - z)."
   ]
  },
  {
   "cell_type": "code",
   "execution_count": 6,
   "metadata": {},
   "outputs": [],
   "source": [
    "def string_compression(string):\n",
    "    output = None\n",
    "    for char in string:\n",
    "        if output is None: \n",
    "            output = [char, \"1\"]\n",
    "        elif (48 < ord(output[-1]) < 58) and (char == output[-2]):\n",
    "            output[-1] = chr(ord(output[-1]) + 1)\n",
    "        else:\n",
    "            output += [char, \"1\"]\n",
    "    return min([string, ''.join(output)], key=len)    "
   ]
  },
  {
   "cell_type": "markdown",
   "metadata": {},
   "source": [
    "**(1.7) Rotate Matrix:**\n",
    "Given an image represented by an (N x N) matrix, where each pixel in the image is 4 bytes, write a method to rotate the image by 90 degrees. Can you do this in place?"
   ]
  },
  {
   "cell_type": "code",
   "execution_count": 7,
   "metadata": {},
   "outputs": [],
   "source": [
    "#Non in-place rotation\n",
    "def rotate_matrix_v1(matrix):\n",
    "    n = len(matrix) \n",
    "    return [[matrix[n-j-1][i] for j in range(n)] for i in range(n)]\n",
    "\n",
    "#In-place rotation\n",
    "def rotate_matrix_v2(matrix):\n",
    "    n = len(matrix)\n",
    "    for i in range(n // 2):\n",
    "        for j in range(i, n-i-1):\n",
    "            matrix[i][j],     matrix[-j-1][i],     matrix[-i-1][-j-1],  matrix[j][-i-1] = \\\n",
    "            matrix[-j-1][i],  matrix[-i-1][-j-1],  matrix[j][-i-1],     matrix[i][j]\n",
    "    return matrix"
   ]
  },
  {
   "cell_type": "markdown",
   "metadata": {},
   "source": [
    "**(1.8) Zero Matrix:**\n",
    "Write an algorithm such that if an element in an (M x N) matrix is 0, its entire row and column are set to 0.\n"
   ]
  },
  {
   "cell_type": "code",
   "execution_count": 8,
   "metadata": {},
   "outputs": [],
   "source": [
    "def zero_matrix(matrix):\n",
    "    m, n = len(matrix), len(matrix[0])\n",
    "    output = [[None for i in range(n)] for j in range(m)]\n",
    "    for i in range(m):\n",
    "        for j in range(n):\n",
    "            if matrix[i][j] == 0:\n",
    "                for k in range(n): #Set elements in the row to 0\n",
    "                    output[i][k] = 0\n",
    "                for k in range(m): #Set elements in the col to 0\n",
    "                    output[k][j] = 0\n",
    "            elif output[i][j] is None:\n",
    "                output[i][j] = matrix[i][j]\n",
    "    return output"
   ]
  },
  {
   "cell_type": "markdown",
   "metadata": {},
   "source": [
    "**(1.9) String Rotation:**\n",
    "Assume you have a method *isSubstring()* which checks if one word is a substring of another. Given two strings, s1 and s2, write code to check if s2 is a rotation of s1 using only one call to *isSubstring()*."
   ]
  },
  {
   "cell_type": "code",
   "execution_count": 9,
   "metadata": {},
   "outputs": [],
   "source": [
    "def is_substring(word_1, word_2):\n",
    "    return word_1.find(word_2) + word_2.find(word_1) != -2\n",
    "\n",
    "def string_rotation(s1, s2):\n",
    "    if len(s1) != len(s2): return False\n",
    "    else: return is_substring(s1 + s1, s2)"
   ]
  },
  {
   "cell_type": "markdown",
   "metadata": {},
   "source": [
    "**Unit tests:** Run through validation tests for each of the defined methods."
   ]
  },
  {
   "cell_type": "code",
   "execution_count": 10,
   "metadata": {},
   "outputs": [
    {
     "name": "stderr",
     "output_type": "stream",
     "text": [
      ".........\n",
      "----------------------------------------------------------------------\n",
      "Ran 9 tests in 0.014s\n",
      "\n",
      "OK\n"
     ]
    }
   ],
   "source": [
    "import unittest\n",
    "\n",
    "class Test(unittest.TestCase):\n",
    "    def test_is_unique(self):\n",
    "        self.assertTrue(is_unique_v1(\"abcd\"))\n",
    "        self.assertTrue(is_unique_v2(\"abcd\"))\n",
    "        self.assertTrue(is_unique_v3(\"abcd\"))\n",
    "        \n",
    "    def test_check_permutation(self):\n",
    "        self.assertTrue(check_permutation_v1(\"abcd\", \"dcba\"))        \n",
    "        self.assertTrue(check_permutation_v2(\"abcd\", \"dcba\"))\n",
    "        \n",
    "    def test_URLify(self):\n",
    "        self.assertEqual(URLify_v1(\"Mr John Smith    \", 13), \"Mr%20John%20Smith\")\n",
    "        self.assertEqual(URLify_v2(\"Mr John Smith    \", 13), \"Mr%20John%20Smith\")\n",
    "        self.assertEqual(URLify_v3(\"Mr John Smith    \", 13), \"Mr%20John%20Smith\")\n",
    "\n",
    "    def test_palindrome_permutation(self):\n",
    "        self.assertTrue(palindrome_permutation(\"tact coa\"))\n",
    "        \n",
    "    def test_one_away(self):\n",
    "        self.assertTrue(one_away(\"pale\", \"ple\"))\n",
    "        self.assertTrue(one_away(\"pales\", \"pale\"))\n",
    "        self.assertTrue(one_away(\"pale\", \"bale\"))\n",
    "        self.assertFalse(one_away(\"pale\", \"bake\"))\n",
    "        \n",
    "    def test_string_compression(self):\n",
    "        self.assertEqual(string_compression(\"aabcccccaaa\"), \"a2b1c5a3\")\n",
    "\n",
    "    def test_rotate_matrix(self):\n",
    "        input = [[1,2,3],[4,5,6],[7,8,9]]\n",
    "        output = [[7,4,1],[8,5,2],[9,6,3]]\n",
    "        self.assertEqual(rotate_matrix_v1(input), output)\n",
    "        self.assertEqual(rotate_matrix_v2(input), output)\n",
    "\n",
    "    def test_zero_matrix(self):\n",
    "        input = [[1,2,3],[4,4,0],[6,7,8],[1,1,9]]\n",
    "        output = [[1,2,0],[0,0,0],[6,7,0],[1,1,0]]\n",
    "        self.assertEqual(zero_matrix(input), output)\n",
    "\n",
    "    def test_string_rotation(self):\n",
    "        self.assertTrue(string_rotation(\"waterbottle\", \"erbottlewat\"))\n",
    "        \n",
    "if __name__ == \"__main__\":\n",
    "    unittest.main(argv=['first-arg-is-ignored'], exit=False)"
   ]
  }
 ],
 "metadata": {
  "kernelspec": {
   "display_name": "Python 3",
   "language": "python",
   "name": "python3"
  },
  "language_info": {
   "codemirror_mode": {
    "name": "ipython",
    "version": 3
   },
   "file_extension": ".py",
   "mimetype": "text/x-python",
   "name": "python",
   "nbconvert_exporter": "python",
   "pygments_lexer": "ipython3",
   "version": "3.7.1"
  }
 },
 "nbformat": 4,
 "nbformat_minor": 2
}
