{
 "cells": [
  {
   "cell_type": "markdown",
   "metadata": {},
   "source": [
    "# Chapter 2 - Linked Lists\n",
    "Marla Odell"
   ]
  },
  {
   "cell_type": "code",
   "execution_count": 1,
   "metadata": {},
   "outputs": [],
   "source": [
    "from linked_list import *"
   ]
  },
  {
   "cell_type": "markdown",
   "metadata": {},
   "source": [
    "**(2.1) Remove Dups:**\n",
    "Write code to remove duplicates from an unsorted linked list. How would you solve this problem if a temporary buffer is not allowed?"
   ]
  },
  {
   "cell_type": "code",
   "execution_count": 2,
   "metadata": {},
   "outputs": [],
   "source": [
    "def remove_dups(unsorted):\n",
    "    if len(unsorted) > 1: \n",
    "        current = unsorted.head\n",
    "        seen = {current.val}\n",
    "        while current.next is not None:\n",
    "            if current.next.val not in seen:\n",
    "                seen.add(current.next.val)\n",
    "                current = current.next\n",
    "            else:\n",
    "                current.next = current.next.next \n",
    "    return unsorted"
   ]
  },
  {
   "cell_type": "markdown",
   "metadata": {},
   "source": [
    "**(2.2) Return Kth to Last:**\n",
    "Implement an algorithm to find the kth to last element of a singly linked list."
   ]
  },
  {
   "cell_type": "code",
   "execution_count": 3,
   "metadata": {},
   "outputs": [],
   "source": [
    "def nth_front_node(ll, n):\n",
    "    pointer, i = ll.head, 1\n",
    "    while pointer and (i < n):\n",
    "        pointer = pointer.next\n",
    "        i += 1\n",
    "    return pointer\n",
    "\n",
    "def kth_back_node(ll, k):\n",
    "    j = len(ll) - k\n",
    "    return nth_front_node(ll, j)"
   ]
  },
  {
   "cell_type": "markdown",
   "metadata": {},
   "source": [
    "**(2.3) Delete Middle Node:**\n",
    "Implement an algorithm to delete a node in the middle (i.e., any node but the first and last node, not necessarily the exact middle) of a singly linked list, given only access to that node."
   ]
  },
  {
   "cell_type": "code",
   "execution_count": 4,
   "metadata": {},
   "outputs": [],
   "source": [
    "def delete_middle_node(node):\n",
    "    node.val = node.next.val\n",
    "    node.next = node.next.next"
   ]
  },
  {
   "cell_type": "markdown",
   "metadata": {},
   "source": [
    "**(2.4) Partition:**\n",
    "Write code to partition a linked list around a value x, such that all nodes less than x come before all nodes greater than or equal to x. lf x is contained within the list, the values of x only need to be after the elements less than x (see below).The partition element x can appear anywhere in the \"right partition\"; it does not need to appear between the left and right partitions."
   ]
  },
  {
   "cell_type": "code",
   "execution_count": 5,
   "metadata": {},
   "outputs": [],
   "source": [
    "def partition(ll, x):\n",
    "    current = ll.tail = ll.head\n",
    "    while current:\n",
    "        holder, current.next = current.next, None\n",
    "        if current.val < x:\n",
    "            current.next, ll.head = ll.head, current #Add to head\n",
    "        else:\n",
    "            ll.tail.next = ll.tail = current #Add to tail\n",
    "        current = holder\n",
    "    return ll"
   ]
  },
  {
   "cell_type": "markdown",
   "metadata": {},
   "source": [
    "**(2.5) Sum Lists:**\n",
    "You have two numbers represented by a linked list, where each node contains a single digit. The digits are stored in reverse order, such that the 1's digit is at the head of the list. Write a function that adds the two numbers and returns the sum as a linked list."
   ]
  },
  {
   "cell_type": "code",
   "execution_count": 6,
   "metadata": {},
   "outputs": [],
   "source": [
    "def sum_lists(ll_1, ll_2):\n",
    "    i, j = ll_1.head, ll_2.head\n",
    "    result = LinkedList()\n",
    "    result_pt, remainder = None, 0\n",
    "    while i or j or remainder:\n",
    "        digit = remainder\n",
    "        if i:\n",
    "            digit += i.val\n",
    "            i = i.next\n",
    "        if j:\n",
    "            digit += j.val\n",
    "            j = j.next\n",
    "        next_val = digit % 10\n",
    "        if not result_pt:\n",
    "            result.add_back(LinkedListNode(next_val))\n",
    "            result_pt = result.head\n",
    "        else:\n",
    "            result.add_back(LinkedListNode(next_val))\n",
    "            result_pt = result_pt.next\n",
    "        remainder = digit // 10\n",
    "    return result"
   ]
  },
  {
   "cell_type": "markdown",
   "metadata": {},
   "source": [
    "**(2.6) Palindrome:**\n",
    "Implement a function to check if a linked list is a palindrome."
   ]
  },
  {
   "cell_type": "code",
   "execution_count": 7,
   "metadata": {},
   "outputs": [],
   "source": [
    "def palindrome(ll):\n",
    "    i = j = ll.head\n",
    "    stack = []\n",
    "    while i and i.next:\n",
    "        stack.append(j.val)\n",
    "        j, i = j.next, i.next.next\n",
    "    if i: \n",
    "        j = j.next\n",
    "    while j:\n",
    "        top = stack.pop()\n",
    "        if top != j.val: \n",
    "            return False\n",
    "        j = j.next\n",
    "    return True"
   ]
  },
  {
   "cell_type": "markdown",
   "metadata": {},
   "source": [
    "**(2.7) Intersection:**\n",
    "Given two singly linked lists, determine if the two lists intersect. Return the intersecting node. Note that the intersection is defined based on reference, not value. That is, if the kth node of the first linked list is the exact same node (by reference) as the jth node of the second linked list, \n",
    "then they are intersecting."
   ]
  },
  {
   "cell_type": "code",
   "execution_count": 8,
   "metadata": {},
   "outputs": [],
   "source": [
    "def intersection(ll_1, ll_2):\n",
    "    seen = set()\n",
    "    i, j = ll_1.head, ll_2.head\n",
    "    while i:\n",
    "        if i.val not in seen: \n",
    "            seen.add(i.val)\n",
    "        i = i.next\n",
    "    while j:\n",
    "        if j.val not in seen: \n",
    "            seen.add(j.val)\n",
    "        else: \n",
    "                return j\n",
    "        j = j.next\n",
    "    return None"
   ]
  },
  {
   "cell_type": "markdown",
   "metadata": {},
   "source": [
    "**(2.8) Find Loop:**\n",
    "Given a circular linked list, implement an algorithm that returns the node at the beginning of the loop."
   ]
  },
  {
   "cell_type": "code",
   "execution_count": 9,
   "metadata": {},
   "outputs": [],
   "source": [
    "def find_loop(ll):\n",
    "    i = j = ll.head\n",
    "    while i.next:\n",
    "        if j.next.next and i.next == j.next.next: \n",
    "            return i.next\n",
    "        else: \n",
    "            i, j = i.next, j.next\n",
    "    return False"
   ]
  },
  {
   "cell_type": "markdown",
   "metadata": {},
   "source": [
    "**Unit tests:** Run through validation tests for each of the defined methods."
   ]
  },
  {
   "cell_type": "code",
   "execution_count": 10,
   "metadata": {},
   "outputs": [
    {
     "name": "stderr",
     "output_type": "stream",
     "text": [
      "........\n",
      "----------------------------------------------------------------------\n",
      "Ran 8 tests in 0.028s\n",
      "\n",
      "OK\n"
     ]
    }
   ],
   "source": [
    "import unittest\n",
    "\n",
    "class Test(unittest.TestCase):\n",
    "    def test_remove_dups(self):\n",
    "        input = build_linked_list([\"a\", \"a\", \"b\", \"b\"])\n",
    "        self.assertEqual(str(remove_dups(input)), \"a => b\")\n",
    "    def test_kth_back(self):\n",
    "        input = build_linked_list([\"a\", \"b\", \"c\", \"d\", \"e\"])\n",
    "        self.assertEqual(kth_back_node(input, 2), nth_front_node(input, 3))\n",
    "    def test_delete_middle_node(self):\n",
    "        input = build_linked_list([\"a\", \"b\", \"c\", \"d\", \"e\", \"f\"])\n",
    "        input_node = nth_front_node(input, 3)\n",
    "        delete_middle_node(input_node)\n",
    "        self.assertEqual(str(input), \"a => b => d => e => f\")     \n",
    "    def test_partition(self):\n",
    "        input = build_linked_list([3,5,8,5,10,2,1])\n",
    "        output = build_linked_list([1,2,3,5,8,5,10])\n",
    "        self.assertEqual(partition(input, 5), output) \n",
    "    def test_sum_lists(self):\n",
    "        input_1 = build_linked_list([1,2,3])\n",
    "        input_2 = build_linked_list([4,5,6])\n",
    "        self.assertEqual(str(sum_lists(input_1, input_2)), \"5 => 7 => 9\")\n",
    "    def test_palindrome(self):\n",
    "        input = [4,2,0,2,4]\n",
    "        self.assertTrue(palindrome(build_linked_list(input))) \n",
    "    def test_intersect(self):\n",
    "        input_1 = build_linked_list([1,2,3,4])\n",
    "        input_2 = build_linked_list([3,4])\n",
    "        output = nth_front_node(input_1, 3)\n",
    "        self.assertEqual(intersection(input_1, input_2), output) \n",
    "    def test_find_loop(self):\n",
    "        input = [\"a\",\"b\",\"c\",\"d\",\"e\"]\n",
    "        self.assertFalse(find_loop(build_linked_list(input)))\n",
    "\n",
    "if __name__ == \"__main__\":\n",
    "    unittest.main(argv=['first-arg-is-ignored'], exit=False)"
   ]
  }
 ],
 "metadata": {
  "kernelspec": {
   "display_name": "Python 3",
   "language": "python",
   "name": "python3"
  },
  "language_info": {
   "codemirror_mode": {
    "name": "ipython",
    "version": 3
   },
   "file_extension": ".py",
   "mimetype": "text/x-python",
   "name": "python",
   "nbconvert_exporter": "python",
   "pygments_lexer": "ipython3",
   "version": "3.7.1"
  }
 },
 "nbformat": 4,
 "nbformat_minor": 2
}
