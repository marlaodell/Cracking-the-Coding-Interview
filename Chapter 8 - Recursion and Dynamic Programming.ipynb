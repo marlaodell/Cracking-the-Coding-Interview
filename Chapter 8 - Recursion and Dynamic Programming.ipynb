{
 "cells": [
  {
   "cell_type": "markdown",
   "metadata": {},
   "source": [
    "# Chapter 8 - Recursion and Dynamic Programming\n",
    "Marla Odell"
   ]
  },
  {
   "cell_type": "markdown",
   "metadata": {},
   "source": [
    "**(8.1) Triple Step:** A child is running up a staircase with n steps and can hop either 1 step, 2 steps, or 3 steps at a time. Implement a method to count how many possible ways the child can run up the stairs."
   ]
  },
  {
   "cell_type": "code",
   "execution_count": 17,
   "metadata": {},
   "outputs": [],
   "source": [
    "def triple_step(n): \n",
    "    \n",
    "    def _triple_step(n):\n",
    "        if (n == 0 or n == 1): #One way to climb one or zero stairs*\n",
    "            return 1\n",
    "        elif (n == 2): #Two ways to climb two stairs: 1-1, 2\n",
    "            return 2\n",
    "        elif memo[n] is None:\n",
    "            return _triple_step(n - 1) + _triple_step(n - 2) + _triple_step(n - 3)\n",
    "        return memo[n]\n",
    "    \n",
    "    memo = [None for i in range(n + 1)] #Memoize sub-results\n",
    "    return _triple_step(n)"
   ]
  },
  {
   "cell_type": "markdown",
   "metadata": {},
   "source": [
    "**(8.2) Robot in a Grid:** Imagine a robot sitting on the upper left corner of grid with r rows and c columns. The robot can only move in two directions, right and down, but certain cells are \"off limits\" such that the robot cannot step on them. Design an algorithm to find a path for the robot from the top left to the bottom right."
   ]
  },
  {
   "cell_type": "code",
   "execution_count": 18,
   "metadata": {},
   "outputs": [],
   "source": [
    "def robot_in_a_grid(grid):\n",
    "\n",
    "    def _robot_in_a_grid(grid, r, c, path, memo):\n",
    "        if r < 0 or c < 0 or r >= len(grid) or c >= len(grid[0]): #Out of bounds\n",
    "            return False\n",
    "        elif not grid[r][c]: #Not available\n",
    "            return False\n",
    "        elif (r,c) in memo:\n",
    "            return memo[(r,c)]\n",
    "        origin = (r,c) == (0,0)\n",
    "        if origin or _robot_in_a_grid(grid, r-1, c, path, memo) or _robot_in_a_grid(grid, r, c-1, path, memo):\n",
    "            path.append((r,c)) #Append current location (if there is a path from the origin to it)\n",
    "            memo[(r,c)] = True\n",
    "        else:\n",
    "            memo[(r,c)] = False\n",
    "        return memo[(r,c)]\n",
    "\n",
    "    memo = dict() #Track cordinates visited \n",
    "    path = list() #Construct a path of coordinates\n",
    "    if _robot_in_a_grid(grid, len(grid)-1, len(grid[0])-1, path, memo):\n",
    "        return path\n",
    "    return None"
   ]
  },
  {
   "cell_type": "markdown",
   "metadata": {},
   "source": [
    "**(8.3) Magic Index:** A magic index in an array ``A[ 1 . .. n - 1]`` is defined to bean index such that ```A[i] = i```. Given a sorted array of distinct integers, write a method to find a magic index, if one exists, in array A."
   ]
  },
  {
   "cell_type": "code",
   "execution_count": 19,
   "metadata": {},
   "outputs": [],
   "source": [
    "def magic_index(A):\n",
    "    \n",
    "    def _magic_index(A, start, end):\n",
    "        if (start < 0) or (end < start) or (end >= len(A)):\n",
    "            return None\n",
    "        middle = (start + end) // 2 #Binary search\n",
    "        if A[middle] == middle:\n",
    "            return middle\n",
    "        elif A[middle] > middle:\n",
    "            return _magic_index(A, start, middle - 1) #Left side\n",
    "        return _magic_index(A, middle + 1, end) #Right side\n",
    "    \n",
    "    return _magic_index(A, 0, len(A)-1)"
   ]
  },
  {
   "cell_type": "markdown",
   "metadata": {},
   "source": [
    "Follow up: What if the values are not distinct?"
   ]
  },
  {
   "cell_type": "code",
   "execution_count": 20,
   "metadata": {},
   "outputs": [],
   "source": [
    "def magic_index_not_distinct(A):\n",
    "    \n",
    "    def _magic_index_not_distinct(A, start, end):\n",
    "        if (start < 0) or (end < start) or (end >= len(A)):\n",
    "            return None\n",
    "        middle = (start + end) // 2\n",
    "        if A[middle] == middle:\n",
    "            return middle\n",
    "        left = _magic_index_not_distinct(A, start, min(middle-1, A[middle]))\n",
    "        if not left:\n",
    "            return left\n",
    "        right = _magic_index_not_distinct(A, max(middle+1, A[middle]), end)\n",
    "        if not right:\n",
    "            return right\n",
    "        return None\n",
    "\n",
    "    return _magic_index(A, 0, len(A)-1)"
   ]
  },
  {
   "cell_type": "markdown",
   "metadata": {},
   "source": [
    "**(8.4) Power Set:** Write a method to return all subsets of a set."
   ]
  },
  {
   "cell_type": "code",
   "execution_count": 21,
   "metadata": {},
   "outputs": [],
   "source": [
    "def power_set(original_set):\n",
    "    \n",
    "    def _power_set(original_set, prior, i):\n",
    "        if i == len(original_set): #Full input\n",
    "            sets.append(prior)\n",
    "            return\n",
    "        _power_set(original_set, prior, i + 1) #Excluded case\n",
    "        _power_set(original_set, prior + original_set[i], i + 1) #Included case\n",
    "    \n",
    "    sets = []\n",
    "    _power_set(original_set, '', 0)\n",
    "    return sets"
   ]
  },
  {
   "cell_type": "markdown",
   "metadata": {},
   "source": [
    "**(8.5) Recusive Multiply:** Write a recursive function to multiply two positive integers without using the * operator (or / operator}. You can use addition, subtraction, and bit shifting, but you should\n",
    "minimize the number of those operations."
   ]
  },
  {
   "cell_type": "code",
   "execution_count": 22,
   "metadata": {},
   "outputs": [],
   "source": [
    "def recursive_multiply(x,y): \n",
    "    \n",
    "    def _recursive_multiply(smaller, bigger):\n",
    "        if bigger == 0: #Everything times zero is zero\n",
    "            return 0\n",
    "        elif bigger == 1:\n",
    "            return x #Everything times one  is itself\n",
    "        half = _recursive_multiply(smaller, bigger // 2)\n",
    "        if bigger % 2 == 0: \n",
    "            return 2 * half #Even case\n",
    "        return 2 * half + smaller #Odd case  \n",
    "    \n",
    "    return _recursive_multiply(min(x,y), max(x,y)) #Check relative value"
   ]
  },
  {
   "cell_type": "markdown",
   "metadata": {},
   "source": [
    "**(8.6) Towers of Hanoi:** In the classic problem of the Towers of Hanoi, you have 3 towers and N disks of different sizes which can slide onto any tower. The puzzle starts with disks sorted in ascending order of size from top to bottom (i.e., each disk sits on top of an even larger one). You have the following constraints:\n",
    "\n",
    "(1) Only one disk can be moved at a time. <br>\n",
    "(2) A disk is slid off the top of one tower onto another tower. <br>\n",
    "(3) A disk cannot be placed on top of a smaller disk.\n",
    "\n",
    "Write a program to move the disks from the first tower to the last using Stacks."
   ]
  },
  {
   "cell_type": "code",
   "execution_count": 23,
   "metadata": {},
   "outputs": [],
   "source": [
    "class Tower(object):\n",
    "\n",
    "    def __init__(self):\n",
    "        self.stack = list()\n",
    "\n",
    "    def add(self, i): #Add new disk to stack\n",
    "        if len(self.stack) != 0 and self.stack[-1] <= i:\n",
    "            raise Exception(\"Error\")\n",
    "        else:\n",
    "            self.stack.append(i)\n",
    "\n",
    "    def move_disks(self, n, final, holder):\n",
    "        if n > 0:\n",
    "            self.move_disks(n - 1, holder, final) #move top (n-1) to holder (via final)\n",
    "            final.add(self.stack.pop()) #move top to final\n",
    "            holder.move_disks(n - 1, final, self) #move top (n-1) to final (via original)\n",
    "\n",
    "def towers_of_hanoi(n):\n",
    "    towers = [Tower() for i in range(3)] #Construct list of 3 towers\n",
    "    for i in range(n - 1, -1, -1):\n",
    "        towers[0].add(i)\n",
    "    towers[0].move_disks(n, towers[2], towers[1]) #Move from tower 0 to tower 2 (via tower 1)\n",
    "    return [t.stack for t in towers]"
   ]
  },
  {
   "cell_type": "markdown",
   "metadata": {},
   "source": [
    "**(8.7) Permutations without Dups:** Write a method to compute all permutations of a string of unique characters."
   ]
  },
  {
   "cell_type": "code",
   "execution_count": 24,
   "metadata": {},
   "outputs": [],
   "source": [
    "def permutations_without_duplicates(string):  \n",
    "\n",
    "    def _permutations_without_duplicates(string, index):\n",
    "        if index >= len(string): \n",
    "            permutations.append(''.join(string))  \n",
    "\n",
    "        for i in range(index, len(string)):  \n",
    "            string[index], string[i] = string[i], string[index]  \n",
    "            _permutations_without_duplicates(string, index + 1)  \n",
    "            string[index], string[i] = string[i], string[index] \n",
    "        return permutations\n",
    "    \n",
    "    permutations = []    \n",
    "    return _permutations_without_duplicates(list(string), 0)"
   ]
  },
  {
   "cell_type": "markdown",
   "metadata": {},
   "source": [
    "**(8.8) Permutations with Duplicates:** Write a method to compute all permutations of a string whose characters are not necessarily unique. The list of permutations should not have duplicates."
   ]
  },
  {
   "cell_type": "code",
   "execution_count": 25,
   "metadata": {},
   "outputs": [],
   "source": [
    "def permutations_with_duplicates(string):  \n",
    "\n",
    "    def _permutations_with_duplicates(string, index):\n",
    "        if index >= len(string): \n",
    "            permutations.append(''.join(string))  \n",
    "\n",
    "        for i in range(index, len(string)):  \n",
    "            if string[index : i].count(string[i]) == 0: #Check if current letter appears again\n",
    "                string[index], string[i] = string[i], string[index]  \n",
    "                _permutations_with_duplicates(string, index + 1)  \n",
    "                string[index], string[i] = string[i], string[index] \n",
    "        return permutations\n",
    "    \n",
    "    permutations = []    \n",
    "    return _permutations_with_duplicates(list(string), 0)"
   ]
  },
  {
   "cell_type": "markdown",
   "metadata": {},
   "source": [
    "**(8.9) Parens:** Implement an algorithm to print all valid (i.e., properly opened and closed) combinations of n pairs of parentheses."
   ]
  },
  {
   "cell_type": "code",
   "execution_count": 26,
   "metadata": {},
   "outputs": [],
   "source": [
    "def parens(n):\n",
    "    \n",
    "    def _parens(l_count, r_count, string):\n",
    "        if l_count > r_count: \n",
    "            return None\n",
    "        if not (l_count or r_count): #Opening and closing match\n",
    "            possibilities.append(string)\n",
    "        if l_count > 0:\n",
    "            _parens(l_count-1, r_count, string + \"(\") #Add left\n",
    "        if r_count > 0:\n",
    "            _parens(l_count, r_count-1, string + \")\") #Add right\n",
    "    \n",
    "    possibilities = []       \n",
    "    _parens(n, n, \"\")\n",
    "    return possibilities"
   ]
  },
  {
   "cell_type": "markdown",
   "metadata": {},
   "source": [
    "**(8.10) Paint Fill:** Implement the \"paint fiil\"function that one might see on many image editing programs. That is, given a screen (represented by a two-dimensional array of colors), a point, and a new color, fill in the surrounding area until the color changes from the original color."
   ]
  },
  {
   "cell_type": "code",
   "execution_count": 27,
   "metadata": {},
   "outputs": [],
   "source": [
    "def paint_fill(image, x, y, color):\n",
    "    \n",
    "    def _within_bounds(x, y, image):\n",
    "        return x >= 0 and y >= 0 and len(image) > y and len(image[y]) > x\n",
    "\n",
    "    def _paint_fill_color(image, x, y, new_color, prev_color):\n",
    "        if image[y][x] != prev_color: #Check if the same color\n",
    "            return\n",
    "        image[y][x] = new_color\n",
    "        if y > 0: \n",
    "            _paint_fill_color(image, x, y - 1, new_color, prev_color) #Recurse in all directions\n",
    "        if y < len(image) - 1:\n",
    "            _paint_fill_color(image, x, y + 1, new_color, prev_color)\n",
    "        if x > 0:\n",
    "            _paint_fill_color(image, x - 1, y, new_color, prev_color) \n",
    "        if x < len(image[y]) - 1:\n",
    "            _paint_fill_color(image, x + 1, y, new_color, prev_color) \n",
    "        return image\n",
    "    \n",
    "    if not _within_bounds(x, y, image):\n",
    "        return\n",
    "    if image[y][x] == color: #Already colored\n",
    "        return\n",
    "    return _paint_fill_color(image, x, y, color, image[y][x])"
   ]
  },
  {
   "cell_type": "markdown",
   "metadata": {},
   "source": [
    "**(8.11) Coins:** Given an infinite number of quarters (25 cents), dimes (10 cents), nickels (5 cents), and pennies (1 cent), write code to calculate the number of ways of representing n cents."
   ]
  },
  {
   "cell_type": "code",
   "execution_count": 28,
   "metadata": {},
   "outputs": [],
   "source": [
    "def coins(n): \n",
    "    memo = [0 for k in range(n+1)] #Stores subproblems such that memo[i] is number of solutions when (n = i)\n",
    "    memo[0] = 1 #One way to make 0\n",
    "    for i in [1, 5, 10, 25]: #Cycle through all coin denominations \n",
    "        for j in range(i, n + 1):\n",
    "            memo[j] += memo[j - i] #Calculate based on subproblems\n",
    "    return memo[n] "
   ]
  },
  {
   "cell_type": "markdown",
   "metadata": {},
   "source": [
    "**(8.12) Eight Queens:** Write an algorithm to print all ways of arranging eight queens on an 8x8 chess board so that none of them share the same row, column, or diagonal. In this case, \"diagonal\" means ail diagonals, not just the two that bisect the board."
   ]
  },
  {
   "cell_type": "code",
   "execution_count": 29,
   "metadata": {},
   "outputs": [],
   "source": [
    "def eight_queens():\n",
    "    \n",
    "    def _legal_placement(r, c, existing_queens):\n",
    "        for queen in existing_queens:\n",
    "            qr,qc = queen\n",
    "            if qr == r: #Check along row\n",
    "                return False \n",
    "            elif qc == c: #Check along column\n",
    "                return False #Check along left diagonal\n",
    "            elif (c - qc) ==  (r - qr): \n",
    "                return False #Check along right diagonal\n",
    "            elif (c - qc) == -(r - qr): \n",
    "                return False \n",
    "        return True\n",
    "    \n",
    "    def _construct_boards(rows, cols):\n",
    "        boards = None\n",
    "        for r in range(rows):\n",
    "            updated = []\n",
    "            for c in range(cols):\n",
    "                if not boards or not len(boards):\n",
    "                    updated.append([] + [(r, c)])\n",
    "                    continue\n",
    "                for b in boards:\n",
    "                    if _legal_placement(r, c, b):\n",
    "                        updated.append(b + [(r, c)])\n",
    "            boards = updated\n",
    "        return boards\n",
    "    \n",
    "    return _construct_boards(8,8) #Adjust to change the size of the board"
   ]
  },
  {
   "cell_type": "markdown",
   "metadata": {},
   "source": [
    "**(8.13) Stack the Boxes:** You have a stack of n boxes, with widths w, heights h, and depths d. The boxes cannot be rotated and can only be stacked on top of one another if each box in the stack is strictly larger than the box above it in width, height, and depth. Implement a method to compute the height of the tallest possible stack. The height of a stack is the sum of the heights of each box."
   ]
  },
  {
   "cell_type": "code",
   "execution_count": 30,
   "metadata": {},
   "outputs": [],
   "source": [
    "def stack_the_boxes(boxes):\n",
    "    \n",
    "    def _stack_is_empty(bottom):\n",
    "        return not bottom    \n",
    "\n",
    "    def _is_valid_placement(bottom, top): #Checks that bottom box is strictly smaller\n",
    "        return bottom.height > top.height and \\\n",
    "               bottom.width  > top.width and \\\n",
    "               bottom.depth  > top.depth   \n",
    "    \n",
    "    def _stack_the_boxes(boxes, bottom, b, memo):\n",
    "        if b >= len(boxes): \n",
    "            return 0\n",
    "        with_box = 0\n",
    "        if _stack_is_empty(bottom) or _is_valid_placement(bottom, boxes[b]): #Check if box can be placed\n",
    "            if not memo[b]:\n",
    "                with_box  = memo[b] = _stack_the_boxes(boxes, boxes[b], b + 1, memo) + boxes[b].height\n",
    "        without_box = _stack_the_boxes(boxes, bottom, b + 1, memo)\n",
    "        return max(with_box, without_box) #Determine which produces max height\n",
    "\n",
    "    sorted_boxes = sorted(boxes, key=lambda x: x.height, reverse = True) #Sort the boxes by height\n",
    "    memo = [0 for i in range(len(boxes))]\n",
    "    return _stack_the_boxes(sorted_boxes, None, 0, memo)\n",
    "\n",
    "\n",
    "class Box(object):\n",
    "\n",
    "    def __init__(self, h, w, d):\n",
    "        self.height = h\n",
    "        self.width = w\n",
    "        self.depth = d\n",
    "        \n",
    "    def __str__(self):\n",
    "        return \"height: \" + str(self.height) + \"; width: \" + str(self.width) + \"; depth: \" + str(self.depth)"
   ]
  },
  {
   "cell_type": "markdown",
   "metadata": {},
   "source": [
    "**(8.14) Boolean Evaluation:** Given a boolean expression consisting of the symbols `0 (false)`, `1 (true)`, `& (AND)`, `| (OR)`, and `^ (XOR)`, and a desired boolean result value `result` , implement a function to count the number of ways of parenthesizing the expression such that it evaluates to result. The expression should be fully parenthesized (e.g., ( 0 ) A (1 )) but not extraneousiy (e.g., ( ( ( 0 ) ) A ( 1 ) ) ) ."
   ]
  },
  {
   "cell_type": "code",
   "execution_count": 31,
   "metadata": {},
   "outputs": [],
   "source": [
    "def count_eval(expression, result):\n",
    "    \n",
    "    def _catalan(n, c = 0):\n",
    "        if n <= 1: return 1\n",
    "        for i in range(n):\n",
    "            c += _catalan(i) * _catalan(n-i-1)\n",
    "        return c\n",
    "\n",
    "    def _evaluate_and(count, left, right, memo): #Recursive definition for \"AND\"\n",
    "        return count + _count_eval(left, True, memo) * _count_eval(right, True, memo)\n",
    "    \n",
    "    def _evaluate_or(count, left, right, memo): #Recursive definition for \"OR\"\n",
    "        return count + _count_eval(left, True, memo) * _count_eval(right, True, memo) \\\n",
    "                     + _count_eval(left, False, memo) * _count_eval(right, True, memo) \\\n",
    "                     + _count_eval(left, True, memo) * _count_eval(right, False, memo)\n",
    "   \n",
    "    def _evaluate_xor(count, left, right, memo): #Recursive definition for \"XOR\"\n",
    "        return count + _count_eval(left, True, memo) * _count_eval(right, False, memo) \\\n",
    "                     + _count_eval(left, False, memo) * _count_eval(right, True, memo)\n",
    "        \n",
    "    def _count_eval(expression, result, memo):\n",
    "        if not len(expression) % 2: return \"Error in input\" #Should be an odd length\n",
    "        elif len(expression) == 1: return int((expression == \"0\") ^ result)\n",
    "        elif expression in memo: return memo[expression][int(result)]\n",
    "        count = 0\n",
    "        last_i = len(expression) - 1\n",
    "        for i in range(1, last_i, 2):\n",
    "            if expression[i] == '&': \n",
    "                count = _evaluate_and(count, expression[:i], expression[(i+1):], memo)\n",
    "            elif expression[i] == '|': \n",
    "                count = _evaluate_or(count, expression[:i], expression[(i+1):], memo)\n",
    "            elif expression[i] == '^': \n",
    "                count = _evaluate_xor(count, expression[:i], expression[(i+1):], memo)\n",
    "        memo[expression] = [_catalan(last_i // 2) - count, count] #Use the catalan number to derive total count\n",
    "        return memo[expression][int(result)]\n",
    "    \n",
    "    memo = {}\n",
    "    return _count_eval(expression, result, memo)"
   ]
  },
  {
   "cell_type": "markdown",
   "metadata": {},
   "source": [
    "**Unit tests:**"
   ]
  },
  {
   "cell_type": "code",
   "execution_count": 32,
   "metadata": {},
   "outputs": [
    {
     "name": "stderr",
     "output_type": "stream",
     "text": [
      "...............\n",
      "----------------------------------------------------------------------\n",
      "Ran 15 tests in 0.091s\n",
      "\n",
      "OK\n"
     ]
    }
   ],
   "source": [
    "import unittest, math\n",
    "\n",
    "class Test(unittest.TestCase):\n",
    "    def test_triple_step(self):\n",
    "        self.assertEqual(triple_step(10), 274)   \n",
    "    def test_robot_in_a_grid(self):\n",
    "        input = [[1, 1, 1],\n",
    "                 [0, 1, 1],\n",
    "                 [0, 0, 1]]\n",
    "        self.assertEqual(robot_in_a_grid(input), [(0, 0), (0, 1), (0, 2), (1, 2), (2, 2)])\n",
    "        input = [[1, 1, 1],\n",
    "                 [0, 0, 1],\n",
    "                 [0, 0, 0]]\n",
    "        self.assertEqual(robot_in_a_grid(input), None)\n",
    "    def test_magic_index(self):\n",
    "        input = [-15,-5,0,2,3,5,8]\n",
    "        self.assertEqual(magic_index(input), 5)\n",
    "    def test_magic_index_not_distinct(self):\n",
    "        input = [-15,0,0,2,3,5,8]\n",
    "        self.assertEqual(magic_index(input), 5)        \n",
    "    def test_power_set(self):\n",
    "        input = \"abc\"\n",
    "        self.assertEqual(len(power_set(input)), 2**len(input))\n",
    "    def test_recursive_multiply(self):\n",
    "        self.assertEqual(recursive_multiply(4,5), 20)    \n",
    "        self.assertEqual(recursive_multiply(-10,5), -50)   \n",
    "    def test_towers_of_hanoi(self):\n",
    "        result = [[], [], [9, 8, 7, 6, 5, 4, 3, 2, 1, 0]]\n",
    "        self.assertEqual(towers_of_hanoi(10), result)\n",
    "    def test_permutations_without_dups(self):\n",
    "        input = \"abc\"\n",
    "        result = permutations_without_duplicates(input)\n",
    "        self.assertEqual(result, ['abc', 'acb', 'bac', 'bca', 'cba', 'cab'])\n",
    "    def test_permutations_with_dups(self):\n",
    "        input = \"aaabc\"\n",
    "        result = permutations_with_duplicates(input)\n",
    "        self.assertEqual(len(result), len(set(result)))\n",
    "    def test_parens(self):\n",
    "        result = ['((()))', '(()())', '(())()', '()(())', '()()()']\n",
    "        self.assertEqual(parens(3), result)\n",
    "    def test_paint_fill(self):\n",
    "        input =  [[10, 10, 10, 10, 10, 10, 10, 40],\n",
    "                  [30, 20, 20, 10, 10, 40, 40, 40],\n",
    "                  [10, 10, 20, 20, 10, 10, 10, 10]]\n",
    "        result = [[50, 50, 50, 50, 50, 50, 50, 40], \n",
    "                  [30, 20, 20, 50, 50, 40, 40, 40], \n",
    "                  [10, 10, 20, 20, 50, 50, 50, 50]]\n",
    "        self.assertEqual(paint_fill(input, 3, 1, 50), result)\n",
    "    def test_coins(self):\n",
    "        self.assertEqual(coins(0), 1)\n",
    "        self.assertEqual(coins(100), 242)\n",
    "    def test_eight_queens(self):\n",
    "        self.assertEqual(len(eight_queens()), 92)\n",
    "        self.assertEqual(len(eight_queens()[0]), 8)\n",
    "    def test_stack_of_boxes(self):\n",
    "        input = []\n",
    "        for i in range(5):\n",
    "            input.append(Box(i, i, i))\n",
    "        self.assertEqual((stack_the_boxes(input)), 10)\n",
    "    def test_boolean_evaluation(self):\n",
    "        self.assertEqual(count_eval(\"1&0&1\", False), 2)\n",
    "        self.assertEqual(count_eval(\"1&0&1^1^0\", False), 7)\n",
    "\n",
    "if __name__ == \"__main__\":\n",
    "    unittest.main(argv=['first-arg-is-ignored'], exit=False)"
   ]
  }
 ],
 "metadata": {
  "kernelspec": {
   "display_name": "Python 3",
   "language": "python",
   "name": "python3"
  },
  "language_info": {
   "codemirror_mode": {
    "name": "ipython",
    "version": 3
   },
   "file_extension": ".py",
   "mimetype": "text/x-python",
   "name": "python",
   "nbconvert_exporter": "python",
   "pygments_lexer": "ipython3",
   "version": "3.7.1"
  }
 },
 "nbformat": 4,
 "nbformat_minor": 2
}
