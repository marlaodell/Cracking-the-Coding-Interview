{
 "cells": [
  {
   "cell_type": "markdown",
   "metadata": {},
   "source": [
    "# Chapter 11 - Testing\n",
    "Marla Odell"
   ]
  },
  {
   "cell_type": "markdown",
   "metadata": {},
   "source": [
    "**(11.1) Mistake:** Find the mistake(s) in the following code:\n",
    "```\n",
    "unsigned int i; <br>\n",
    "for ( i = 100; i >= 0; - - i ) <br>\n",
    "&emsp; &emsp; printf(\"5Sd\\nJ I , i ) ;\n",
    "```"
   ]
  },
  {
   "cell_type": "markdown",
   "metadata": {},
   "source": [
    "There are two mistakes in this code:\n",
    "1. **Specifier Character:** It is incorrect to use \"%d\" (intended for a signed int) for an unsigned int. Instead, it should eb replaced with \"%u\" (intended for an unsigned int).\n",
    "2. ***Infinite Loop:** By definition, an unsigned int is always greater than or equal to zero. Therefore, this definition of a for look would create an infinite loop. Instead we should replace \"i >= 0\" with \"i > 0\", then deal with the edge case of zero with an additional printf statment. \n",
    "\n",
    "*Note: This is specific to C*"
   ]
  },
  {
   "cell_type": "markdown",
   "metadata": {},
   "source": [
    "**(11.2) Random Crashes:** You are given the source to an application which crashes when it is run. After running it ten times in a debugger, you find it never crashes in the same place. The application is single threaded, and uses only the C standard library. What programming errors could be causing this crash? How would you test each one?"
   ]
  },
  {
   "cell_type": "markdown",
   "metadata": {},
   "source": [
    "Potential causes:\n",
    "* **Variables:** there may be issues with a changing input variable (e.g., randomly generated value, user input, time of day, unitialized variable)\n",
    "* **Dependencies:** there may be external dependencies you are unaware of that are impacting the program in the background. \n",
    "* **Memory:** there may be a shortage of memory causing the seemingly sporatic issues. \n",
    "\n",
    "To debug this, I would start by looking for any changing variables (i.e., Potential Cause 1) in the program and follow those through to see if they are mishandled. Then, I would run the program in isolation (i.e., Potential Cause 2) in a debugger so I could isolate methods. Lastly, I would add back in other program sin the backgorund (i.e., Potential Cause 3) to see if that introduces any issues. Throughout the diagnosis I would record each time it crashes and the circumstances to try to identify underlying patterns. "
   ]
  },
  {
   "cell_type": "markdown",
   "metadata": {},
   "source": [
    "**(11.3) Chess Test:** We have the following method used in a chess game: boolean ```canMoveTo(int x, int y)```. This method is part of the Piece class and returns whether or not the piece can move to position (x ,y). Explain how you would test this method."
   ]
  },
  {
   "cell_type": "markdown",
   "metadata": {},
   "source": [
    "**Basic Functionality:** For each of the different types of chess pieces (e.g., bishop), I would place it on the board and cycle through its known legal moves (e.g., along the diagonal), checking that the ```canMoveTo``` method returns TRUE for the tested parameters. Then I would test a diverse subset of illegal moves (e.g., off the diagonal, behind other pieces), checking the method ```canMoveTo``` returns FALSE for the tested parameters. \n",
    "\n",
    "**Edge Cases:** I would test some extreme parameters to check that that it handles them in a predictable way. These include x and y values outside of the board range (e.g., negative, zero, >8)."
   ]
  },
  {
   "cell_type": "markdown",
   "metadata": {},
   "source": [
    "**(11.4) No Test Tools:** How would you load test a webpage without using any test toots?"
   ]
  },
  {
   "cell_type": "markdown",
   "metadata": {},
   "source": [
    "One method is to create a multi-threaded program to simulate hundreds to thousands of users loading the webpage at once. Using that, we could measure the response time, and identify the maximum load point. "
   ]
  },
  {
   "cell_type": "markdown",
   "metadata": {},
   "source": [
    "**(11.5) Test a Pen:** How would you test a pen?"
   ]
  },
  {
   "cell_type": "markdown",
   "metadata": {},
   "source": [
    "There are countless different ways to approach this, but here are a few I would... <br>\n",
    "* Test the **safety** of the pen (e.g., choking potential, ink toxicity, sharpness).\n",
    "* Test that the pen aligns with the **specifications** (e.g., correct color, size, dimensions).\n",
    "* Test the pen's **performance** at its intended task (e.g., signing documents, coloring) relative to its competitors.\n",
    "* Test its **limits** (e.g., try to write on different materials, from angles, after being left out).\n",
    "* Test it **with users** (e.g., give it to potential customers, watch them use it, and try collect their feedback)."
   ]
  },
  {
   "cell_type": "markdown",
   "metadata": {},
   "source": [
    "**(11.6) Test a ATM:** How would you test an ATM in a distributed banking system?"
   ]
  },
  {
   "cell_type": "markdown",
   "metadata": {},
   "source": [
    "I would approach this in several steps: <br>\n",
    "1. Understand who will be using the machine and in what enviroments (e.g., outside, low-light).\n",
    "2. Identify the intended functionality (e.g., withdrawing, depositing, checking balance).\n",
    "3. Test each functionaity in a controlled (or automated) enviroment. \n",
    "4. Test each functionality with a diverse set of potential users in a diverse set of enviroments. \n",
    "5. Test the system against malicious attacks (e.g., physical robustness, fake accounts). \n",
    "6. Continually monitor the system once it is deployed for unexpected behavior (e.g., uncharactristic withdrawls)"
   ]
  }
 ],
 "metadata": {
  "kernelspec": {
   "display_name": "Python 3",
   "language": "python",
   "name": "python3"
  },
  "language_info": {
   "codemirror_mode": {
    "name": "ipython",
    "version": 3
   },
   "file_extension": ".py",
   "mimetype": "text/x-python",
   "name": "python",
   "nbconvert_exporter": "python",
   "pygments_lexer": "ipython3",
   "version": "3.7.1"
  }
 },
 "nbformat": 4,
 "nbformat_minor": 2
}
