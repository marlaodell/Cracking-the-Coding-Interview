{
 "cells": [
  {
   "cell_type": "markdown",
   "metadata": {},
   "source": [
    "# CTCI: Stacks and Queues\n",
    "Marla Odell"
   ]
  },
  {
   "cell_type": "code",
   "execution_count": 1,
   "metadata": {},
   "outputs": [],
   "source": [
    "from Objects.stack_and_queue import *\n",
    "from Objects.trees_and_nodes import *"
   ]
  },
  {
   "cell_type": "markdown",
   "metadata": {},
   "source": [
    "**(3.1) Three in One:**\n",
    "To use a single array to implement three stacks, one could fix the available space for a single stack, then divide the array into three parts to hold each stack."
   ]
  },
  {
   "cell_type": "code",
   "execution_count": 2,
   "metadata": {},
   "outputs": [],
   "source": [
    "class ThreeInOne:\n",
    "    def __init__(self, stacksize):\n",
    "        self.numstacks = 3\n",
    "        self.array = [0] * (stacksize * self.numstacks)\n",
    "        self.sizes = [0] * self.numstacks\n",
    "        self.stacksize = stacksize\n",
    "\n",
    "    def is_empty(self, stacknum):\n",
    "        return self.sizes[stacknum] == 0\n",
    "\n",
    "    def is_full(self, stacknum):\n",
    "        return self.sizes[stacknum] == self.stacksize\n",
    "    \n",
    "    def push(self, item, stacknum):\n",
    "        self.sizes[stacknum] += 1\n",
    "        self.array[self.index_of_top(stacknum)] = item\n",
    "\n",
    "    def pop(self, stacknum):\n",
    "        value = self.array[self.index_of_top(stacknum)]\n",
    "        self.array[self.index_of_top(stacknum)] = 0\n",
    "        self.sizes[stacknum] -= 1\n",
    "        return value\n",
    "\n",
    "    def peek(self, stacknum):\n",
    "        return self.array[self.index_of_top(stacknum)]\n",
    "    \n",
    "    def index_of_top(self, stacknum):\n",
    "        offset = stacknum * self.stacksize\n",
    "        return offset + self.sizes[stacknum] - 1"
   ]
  },
  {
   "cell_type": "markdown",
   "metadata": {},
   "source": [
    "**(3.2) Stack Min**\n",
    "How would you design a stack which, in addition to ```push``` and ```pop```, has a function ``min`` which returns the minimum element? ```Push```, ```pop``` and ```min``` should all operate in O(1) time."
   ]
  },
  {
   "cell_type": "code",
   "execution_count": 3,
   "metadata": {},
   "outputs": [],
   "source": [
    "class StackMin(Stack):\n",
    "    \n",
    "    def __init__(self, min_stack=None):\n",
    "        super().__init__()\n",
    "        self.min_stack = min_stack\n",
    "\n",
    "    def __str__(self, min_stack=None):\n",
    "        return str([i.val for i in self.items])\n",
    "        \n",
    "    def push(self, item):\n",
    "        new = Node(item)\n",
    "        if not self.min_stack:\n",
    "            self.min_stack = new  \n",
    "        elif self.min_stack.val > new.val:\n",
    "            holder = self.min_stack\n",
    "            self.min_stack = new\n",
    "            self.min_stack.next = holder\n",
    "        self.items.append(new)\n",
    "        \n",
    "    def pop(self):\n",
    "        removed = self.items.pop()\n",
    "        if removed == self.min_stack:\n",
    "            if self.min_stack.next is not None:\n",
    "                self.min_stack = self.min_stack.next \n",
    "            else: \n",
    "                self.min_stack = None\n",
    "        return removed\n",
    "        \n",
    "    def min_element(self):\n",
    "        return self.min_stack"
   ]
  },
  {
   "cell_type": "markdown",
   "metadata": {},
   "source": [
    "**(3.3) Stack of Plates:**\n",
    "\n",
    "Imagine a (literal) stack of plates. If the stack gets too high, it might topple. Therefore, in real life, we would likely start a new stack when the previous stack exceeds some threshold. Implement a data structure ```SetOfStacks``` that mimics this. ```SetOfStacks``` should be composed of several stacks and should create a new stack once the previous one exceeds capacity. ```SetOfStacks.push()``` and ```SetOfStacks.pop()``` should behave identically to a single stack (that is, ``pop()`` should return the same values as it would if there were just a single stack). Implement a function ```popAt(int index)``` which performs a pop operation on a specific sub-stack."
   ]
  },
  {
   "cell_type": "code",
   "execution_count": 4,
   "metadata": {},
   "outputs": [],
   "source": [
    "class SetOfPlates:\n",
    "    \n",
    "    def __init__(self, max_height):\n",
    "        self.max_height = max_height\n",
    "        self.stacks = [Stack()]\n",
    "        self.i = 0 #Index of current stack\n",
    "\n",
    "    def __str__(self):\n",
    "        string = \"\"\n",
    "        for i in self.stacks:\n",
    "            string += str(i)\n",
    "        return string\n",
    "    \n",
    "    def push(self, value):\n",
    "        if len(self.stacks[self.i]) >= self.max_height:\n",
    "            self.stacks.append(Stack())\n",
    "            self.i += 1\n",
    "        self.stacks[self.i].push(value)\n",
    "\n",
    "    def pop(self):\n",
    "        if not self.stacks[self.i].is_empty(): \n",
    "            return self.stacks[self.i].pop()\n",
    "        self.stacks.pop() #Remove empty Stack\n",
    "        self.i -= 1\n",
    "        if self.i >= 0:\n",
    "            return self.stacks[self.i].pop()\n",
    "        return None\n",
    "\n",
    "    def pop_at(self, index):\n",
    "        if index < len(self.stacks):\n",
    "            if len(self.stacks[index].items) > 0:\n",
    "                removed = self.stacks[index].items.pop() #This will leave a stack partially-full\n",
    "                self.rebalance(index)\n",
    "                return removed\n",
    "        return None\n",
    "        \n",
    "    def rebalance(self, index):\n",
    "        if index == self.i:\n",
    "            return #If already the last, do nothing\n",
    "        holder = self.stacks[index + 1].items[0]\n",
    "        self.stacks[index + 1].items = self.stacks[index + 1].items[1:]\n",
    "        self.stacks[index].push(holder)\n",
    "        self.rebalance(index + 1)"
   ]
  },
  {
   "cell_type": "markdown",
   "metadata": {},
   "source": [
    "**(3.4) Queues via Stacks:**\n",
    "Implement a MyQueue class which implements a queue using two stacks."
   ]
  },
  {
   "cell_type": "code",
   "execution_count": 5,
   "metadata": {},
   "outputs": [],
   "source": [
    "class QueueViaStacks():\n",
    "    \n",
    "    def __init__(self):\n",
    "        self.front_first = Stack()\n",
    "        self.back_first = Stack()\n",
    "        self.enqueued_direction = True\n",
    "        \n",
    "    def __str__(self):\n",
    "        return str(self.front_first) + str(self.back_first)\n",
    "        \n",
    "    def is_empty(self):\n",
    "        return self.front_first.is_empty() and self.back_first.is_empty()\n",
    "    \n",
    "    def enqueue(self, item):\n",
    "        if not self.enqueued_direction:\n",
    "            self.switch()\n",
    "            self.enqueued_direction = True\n",
    "        self.front_first.push(item)\n",
    "                \n",
    "    def dequeue(self):\n",
    "        if self.back_first.is_empty():\n",
    "            self.switch()\n",
    "            self.back_first.pop()\n",
    "        else:\n",
    "            self.back_first.pop()\n",
    "            \n",
    "    def switch(self):\n",
    "        if self.front_first.is_empty():\n",
    "            while not self.back_first.is_empty():\n",
    "                self.front_first.push(self.back_first.pop())\n",
    "        else:\n",
    "            while not self.front_first.is_empty():\n",
    "                self.back_first.push(self.front_first.pop())"
   ]
  },
  {
   "cell_type": "markdown",
   "metadata": {},
   "source": [
    "**(3.5) Sort Stack:**\n",
    "Write a program to sort a stack such that the smallest items are on the top. You can use an additional temporary stack, but you may not copy the elements into any other data structure (such as an array). The stack supports the following operations: ```push```, ```pop```, ```peek```, and ```isEmpty```."
   ]
  },
  {
   "cell_type": "code",
   "execution_count": 6,
   "metadata": {},
   "outputs": [],
   "source": [
    "def sort_stack(stack):\n",
    "    buffer_stack = Stack()\n",
    "    while not stack.is_empty():\n",
    "        element = stack.pop()\n",
    "        while (not buffer_stack.is_empty()) and (element < buffer_stack.peek()):\n",
    "            stack.push(buffer_stack.pop())\n",
    "        buffer_stack.push(element)\n",
    "    while (not buffer_stack.is_empty()):\n",
    "        stack.push(buffer_stack.pop())"
   ]
  },
  {
   "cell_type": "markdown",
   "metadata": {},
   "source": [
    "**(3.6) Animal Shelter:**\n",
    "An animal shelter, which holds only dogs and cats, operates on a strictly \"first in, first out\" basis. People must adopt either the \"oldest\" (based on arrival time) of all animals at the shelter, or they can select whether they would prefer a dog or a cat (and will receive the oldest animal of that type). They cannot select which specific animal they would like. Create the data structures to maintain this system and implement operations such as ```enqueue```, ```dequeueAny```, ```dequeueDog```, and ```dequeueCat```. You may use the built-in LinkedList data structure."
   ]
  },
  {
   "cell_type": "code",
   "execution_count": 7,
   "metadata": {},
   "outputs": [],
   "source": [
    "class Animal():\n",
    "    \n",
    "    def __init__(self, name, species):\n",
    "        self.name = name\n",
    "        self.species = species\n",
    "    \n",
    "    def __str__(self):\n",
    "        return self.name\n",
    "        \n",
    "class AnimalShelter():\n",
    "    \n",
    "    def __init__(self):\n",
    "        self.dog_queue = []\n",
    "        self.cat_queue = []\n",
    "        self.queue = []\n",
    "        \n",
    "    def enqueue(self, animal):\n",
    "        if animal.species == \"Dog\":\n",
    "            self.dog_queue.append(animal)\n",
    "        else:\n",
    "            self.cat_queue.append(animal)\n",
    "        self.queue.append(animal)\n",
    "        \n",
    "    def dequeue_any(self, species=None):\n",
    "        if species is None:\n",
    "            return self.queue.pop(0)\n",
    "        else:\n",
    "            index = 0\n",
    "            while index < len(self.queue):\n",
    "                if self.queue[index].species == species:\n",
    "                    return self.queue[index]\n",
    "                else:\n",
    "                    index += 1\n",
    "            return Exception(\"Animal preference unavailable.\")\n",
    "        \n",
    "    def dequeue_dog(self):\n",
    "        return self.dequeue_any(\"Dog\")\n",
    "    \n",
    "    def dequeue_cat(self):\n",
    "        return self.dequeue_any(\"Cat\")"
   ]
  },
  {
   "cell_type": "markdown",
   "metadata": {},
   "source": [
    "**Unit tests:** "
   ]
  },
  {
   "cell_type": "code",
   "execution_count": 8,
   "metadata": {},
   "outputs": [
    {
     "name": "stderr",
     "output_type": "stream",
     "text": [
      "......\n",
      "----------------------------------------------------------------------\n",
      "Ran 6 tests in 0.014s\n",
      "\n",
      "OK\n"
     ]
    }
   ],
   "source": [
    "import unittest\n",
    "\n",
    "class Test(unittest.TestCase):\n",
    "    def test_three_in_one(self):\n",
    "        input = ThreeInOne(2)\n",
    "        self.assertTrue(input.is_empty(1))\n",
    "        input.push(3,2)\n",
    "        self.assertFalse(input.is_empty(2))\n",
    "        self.assertEqual(input.peek(2), 3)\n",
    "    def test_stack_min(self):\n",
    "        input = StackMin()\n",
    "        input.push(5)\n",
    "        self.assertEqual(input.min_element().val, 5)\n",
    "        input.push(4)\n",
    "        input.push(2)\n",
    "        self.assertEqual(input.min_element().val, 2)\n",
    "        self.assertEqual(input.pop().val, 2)\n",
    "        self.assertEqual(input.min_element().val, 4)\n",
    "    def test_stack_of_plates(self):\n",
    "        input = SetOfPlates(3)\n",
    "        for i in range(10):\n",
    "            input.push(i)\n",
    "        self.assertEqual(str(input), \"[0, 1, 2][3, 4, 5][6, 7, 8][9]\")\n",
    "        input.pop()\n",
    "        input.pop()\n",
    "        self.assertEqual(str(input), \"[0, 1, 2][3, 4, 5][6, 7]\")\n",
    "        input.pop_at(1)\n",
    "        self.assertEqual(str(input), \"[0, 1, 2][3, 4, 6][7]\")\n",
    "    def test_queues_via_stacks(self):\n",
    "        input = QueueViaStacks()\n",
    "        for i in range(5):\n",
    "            input.enqueue(i)\n",
    "        self.assertEqual(str(input), \"[0, 1, 2, 3, 4][]\")\n",
    "        input.dequeue()\n",
    "        self.assertEqual(str(input), \"[][4, 3, 2, 1]\")\n",
    "    def test_sort_stack(self):\n",
    "        input = Stack()\n",
    "        for i in [4,5,2,3,1]:\n",
    "            input.push(i)\n",
    "        sort_stack(input)\n",
    "        self.assertEqual(str(input), \"[5, 4, 3, 2, 1]\")\n",
    "    def test_animal_shelter(self):\n",
    "        input = AnimalShelter()\n",
    "        for dog in [\"Andy\", \"Billy\", \"Charlie\"]:\n",
    "            input.enqueue(Animal(dog, \"Dog\"))\n",
    "        for cat in [\"Abby\", \"Bey\", \"Cocoa\"]:\n",
    "            input.enqueue(Animal(cat, \"Cat\"))\n",
    "        self.assertEqual(str(input.dequeue_any()), \"Andy\")\n",
    "        self.assertEqual(str(input.dequeue_dog()), \"Billy\")\n",
    "        self.assertEqual(str(input.dequeue_cat()), \"Abby\")\n",
    "        \n",
    "if __name__ == \"__main__\":\n",
    "    unittest.main(argv=['first-arg-is-ignored'], exit=False)"
   ]
  }
 ],
 "metadata": {
  "kernelspec": {
   "display_name": "Python 3",
   "language": "python",
   "name": "python3"
  },
  "language_info": {
   "codemirror_mode": {
    "name": "ipython",
    "version": 3
   },
   "file_extension": ".py",
   "mimetype": "text/x-python",
   "name": "python",
   "nbconvert_exporter": "python",
   "pygments_lexer": "ipython3",
   "version": "3.7.1"
  }
 },
 "nbformat": 4,
 "nbformat_minor": 2
}
