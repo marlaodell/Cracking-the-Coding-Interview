{
 "cells": [
  {
   "cell_type": "markdown",
   "metadata": {},
   "source": [
    "# Chapter 10 - Searching and Sorting\n",
    "Marla Odell"
   ]
  },
  {
   "cell_type": "code",
   "execution_count": 2,
   "metadata": {},
   "outputs": [],
   "source": [
    "from Objects.trees_and_nodes import *"
   ]
  },
  {
   "cell_type": "markdown",
   "metadata": {},
   "source": [
    "**(10.1) Sorted Merge:** You are given two sorted arrays, A and B, where A has a large enough buffer at the end to hold B. Write a method to mege B into sorted order."
   ]
  },
  {
   "cell_type": "code",
   "execution_count": 3,
   "metadata": {},
   "outputs": [],
   "source": [
    "def sorted_merge(A, B):\n",
    "    b, a = len(B) - 1, len(A) - len(B) - 1\n",
    "    while not (a < 0 or b < 0): #While there are values in both lists\n",
    "        if A[a] > B[b]:\n",
    "            A[a + b + 1] = A[a]\n",
    "            a -= 1\n",
    "        else:\n",
    "            A[a + b + 1] = B[b]\n",
    "            b -= 1\n",
    "    while not (b < 0): #Fill the rest of the list\n",
    "        A[b] = B[b]\n",
    "        b -= 1"
   ]
  },
  {
   "cell_type": "markdown",
   "metadata": {},
   "source": [
    "**(10.2) Group Anagrams:** Write a method to sort an array of strings so that all the anagrams are next to each other."
   ]
  },
  {
   "cell_type": "code",
   "execution_count": 4,
   "metadata": {},
   "outputs": [],
   "source": [
    "def group_anagrams(strings):\n",
    "    sorted_tuples = [(string, sorted(string)) for string in strings]\n",
    "    sorted_tuples.sort(key = lambda i: i[1]) #Sort by the sorted strings (grouping anagrams)\n",
    "    return [i[0] for i in sorted_tuples]"
   ]
  },
  {
   "cell_type": "markdown",
   "metadata": {},
   "source": [
    "**(10.3) Search in Rotated Array:** Given a sorted array of n integers that has been rotated an unknown number of times, write code to find an element in the array. You may assume that the array was originally sorted in increasing order."
   ]
  },
  {
   "cell_type": "code",
   "execution_count": 5,
   "metadata": {},
   "outputs": [],
   "source": [
    "def search_in_rotated_array(values, key): #Finds location of key within values\n",
    "    n = len(values)\n",
    "    pivot = rotation_index(values, 0, n - 1)\n",
    "    if pivot == None: #Array is not rotataed \n",
    "        return binary_search(values, 0, n - 1, key); \n",
    "    elif values[pivot] == key: \n",
    "        return pivot \n",
    "    elif values[0] > key: \n",
    "        return binary_search(values, pivot + 1, n - 1, key)\n",
    "    return binary_search(values, 0, pivot - 1, key)\n",
    "\n",
    "def rotation_index(values, i_left, i_right): #Looks for the index of pivot value (rotated about)\n",
    "    if i_right < i_left:\n",
    "        return None\n",
    "    elif i_right == i_left: \n",
    "        return i_left \n",
    "    i_middle = (i_left + i_right) // 2 \n",
    "    if i_middle > i_left and values[i_middle] < values[i_middle - 1]: \n",
    "        return i_middle - 1\n",
    "    elif i_middle < i_right and values[i_middle] > values[i_middle + 1]: \n",
    "        return i_middle \n",
    "    elif values[low] >= values[i_middle]: \n",
    "        return rotation_index(values, i_left, i_middle-1) \n",
    "    return rotation_index(values, i_middle + 1, i_right) \n",
    "\n",
    "def binary_search(values, i_left, i_right, key): \n",
    "    if i_right >= i_left: \n",
    "        i_middle = (i_left + i_right) // 2\n",
    "        if values[i_middle] == key: \n",
    "            return i_middle \n",
    "        if values[i_middle] > key: \n",
    "            return binary_search(values, i_left, i_middle - 1, key) \n",
    "        return binary_search(values, i_middle + 1, i_right, key) \n",
    "    return None"
   ]
  },
  {
   "cell_type": "markdown",
   "metadata": {},
   "source": [
    "**(10.4) Sorted Search, No Size:** You are given an array-like data structure ```Listy``` which lacks a size method. It does, however have an ```elementAt(i)``` method that returns the element at index i in *O(1)* time. If i is beyond the bounds of the data structure it returns -1. (For this reason, the data structure only supports posivite integers.) Given a Listy which contains sorted, positive integers, find the index at which an element x occurs. If x occurs multiple times, you may return any index. "
   ]
  },
  {
   "cell_type": "code",
   "execution_count": 6,
   "metadata": {},
   "outputs": [],
   "source": [
    "class Listy:\n",
    "    \n",
    "    def __init__(self, values):\n",
    "        self.values = values\n",
    "        \n",
    "    def elementAt(self, i):\n",
    "        if i < len(self.array):\n",
    "            return self.values[i]\n",
    "        return -1\n",
    "    \n",
    "def sorted_search(listy, key): \n",
    "    i_left, i_right = 0, 1\n",
    "    current = listy.values[0] \n",
    "    while current < key: \n",
    "        i_left, i_right = i_right, 2 * i_right #Doubles index as you search the unknown size array\n",
    "        current = listy.values[i_right]\n",
    "    return binary_search(listy.values, i_left, i_right, key) #Uses binary search method from (10.3)"
   ]
  },
  {
   "cell_type": "markdown",
   "metadata": {},
   "source": [
    "**(10.5) Sparse Search:** Given a sorted array of strings that is interspersed with empty strings write a method to find the location of a given string."
   ]
  },
  {
   "cell_type": "code",
   "execution_count": 7,
   "metadata": {},
   "outputs": [],
   "source": [
    "def sparse_search(strings, key, i_left = None, i_right = None):\n",
    "    i_left = 0 if i_left is None else i_left\n",
    "    i_right = len(strings) - 1 if i_right is None else i_right\n",
    "    i, j = 0, 0\n",
    "    i_middle = (i_left + i_right) // 2\n",
    "    if strings[i_middle] == '':\n",
    "        i, j = i_middle - 1, i_middle + 1\n",
    "        while True: #Looking for closest non-empty string\n",
    "            if i < i_left and j > i_right:\n",
    "                return None \n",
    "            elif (i >= i_left) and (strings[i] != ''): \n",
    "                i_middle = i \n",
    "                break\n",
    "            elif (j <= i_right) and (strings[j] != ''): \n",
    "                i_middle = j \n",
    "                break\n",
    "    if strings[i_middle] == key: \n",
    "        return i_middle   \n",
    "    elif strings[i_middle] < key: \n",
    "        return sparse_search(strings, key, i_middle + 1, i_right)\n",
    "    elif strings[i_middle] > key: \n",
    "        return sparse_search(strings, key, i_left, i_middle - 1)\n",
    "    i -= 1\n",
    "    j += 1"
   ]
  },
  {
   "cell_type": "markdown",
   "metadata": {},
   "source": [
    "**(10.6) Sort Big File:** Imagine you have a 20GB file with one string per line. Explain how you would sort the file. "
   ]
  },
  {
   "cell_type": "markdown",
   "metadata": {},
   "source": [
    "Use an external sorting algorithm, such that you divide the 20GB file into chunks of m-size (where m is the amount of memory avaialble). Sort each chunk independently (bringing it into working memory, preforming a conventional sorting algorithm locally, and then saving the sorted version externally). Finally perform a (20/m)-way merge of the sorted chunks together to get the final sorting. "
   ]
  },
  {
   "cell_type": "markdown",
   "metadata": {},
   "source": [
    "**(10.7) Missing Int:** Given an input file with four billion non-negative integers, provide an algorithm to generate an integer that is not contained in the file. Assume you have 1GB of memory available for the task."
   ]
  },
  {
   "cell_type": "code",
   "execution_count": 8,
   "metadata": {},
   "outputs": [],
   "source": [
    "def traverse_int(int_list):\n",
    "    bit_vec = [0] * (2**8) #Change for actual use: (2**32)\n",
    "    for i in int_list:\n",
    "        bit_vec[i] = 1 #Marks value as seen\n",
    "    return bit_vec\n",
    "\n",
    "def find_missing(bit_vec):\n",
    "    for i in range(len(bit_vec)):\n",
    "        if bit_vec[i] == 0:\n",
    "            return i\n",
    "\n",
    "def missing_int(int_list):\n",
    "    bit_vec = traverse_int(int_list)\n",
    "    return find_missing(bit_vec)"
   ]
  },
  {
   "cell_type": "markdown",
   "metadata": {},
   "source": [
    "Follow Up: What if you have only 10 MB of memory? Assume that all the values are distinct and we now have no more than one billion non-negative integers."
   ]
  },
  {
   "cell_type": "code",
   "execution_count": 9,
   "metadata": {},
   "outputs": [],
   "source": [
    "def first_pass(int_list, max_val, block_len):\n",
    "    blocks = [[] for i in range(max_val // block_len + 1)]\n",
    "    for i in int_list:\n",
    "        blocks[(i // block_len)].append(i) #Catagorize by ranges\n",
    "    return blocks\n",
    "\n",
    "def check_length(blocks, block_len):\n",
    "    for i in range(len(blocks)):\n",
    "        if len(blocks[i]) != block_len: #Check if range contains a missing value\n",
    "            return i\n",
    "    return None\n",
    "\n",
    "def second_pass(blocks, b, block_len):\n",
    "    bit_vec = [0] * block_len\n",
    "    for i in blocks[b]:\n",
    "        bit_vec[i - (block_len*b)] = 1 #Marks value as seen\n",
    "    return bit_vec\n",
    "\n",
    "def find_missing_int(bit_vec):\n",
    "    for i in range(len(bit_vec)):\n",
    "        if bit_vec[i] == 0:\n",
    "            return i\n",
    "    return None\n",
    "\n",
    "def missing_int_follow_up(int_list):\n",
    "    max_val, block_len = 11, 4 #Adjust to Integer.MAX_VALUE, 2**17\n",
    "    blocks = first_pass(int_list, max_val, block_len)\n",
    "    short_block_i = check_length(blocks, block_len)\n",
    "    bit_vec = second_pass(blocks, short_block_i, block_len)  \n",
    "    missing_i = find_missing_int(bit_vec)\n",
    "    return missing_i +(block_len*short_block_i)"
   ]
  },
  {
   "cell_type": "markdown",
   "metadata": {},
   "source": [
    "**(10.8) Find Duplicates:** You have an array with all the numbers from 1 to N, where N is at most 32,000. The array may have duplicate entries and you do not know what N is. With only 4 kilobytes of memory available, how would you print all duplicate elements in the array?"
   ]
  },
  {
   "cell_type": "code",
   "execution_count": 10,
   "metadata": {},
   "outputs": [],
   "source": [
    "def find_duplicates(array):\n",
    "    bit_vec = [0] * 500 #(500 x 64) = 32,000 <= 4kb\n",
    "    duplicates = []\n",
    "    for i in array:\n",
    "        bit = 1 << (i % 64)\n",
    "        position = i // 64\n",
    "        if not (bit_vec[position] & bit):\n",
    "            bit_vec[position] |= bit\n",
    "        else: \n",
    "            duplicates.append(i)\n",
    "    return duplicates #Changed from print to retrun for testing"
   ]
  },
  {
   "cell_type": "markdown",
   "metadata": {},
   "source": [
    "**(10.9) Sorted Matrix Search:** Given an M x N matrix in which each row and each column is sorted in ascending order, write a method to find an element."
   ]
  },
  {
   "cell_type": "code",
   "execution_count": 11,
   "metadata": {},
   "outputs": [],
   "source": [
    "def sorted_matrix_search(matrix, N, e): \n",
    "    i,j = 0, N-1 #Index of right / smallest element\n",
    "    while (i < N and j >= 0):\n",
    "        if (matrix[i][j] == e): #Found element\n",
    "            return (i,j)\n",
    "        elif (matrix[i][j] < e):\n",
    "            i += 1\n",
    "        else:\n",
    "            j -= 1\n",
    "    return None #Element is not in the matrix "
   ]
  },
  {
   "cell_type": "markdown",
   "metadata": {},
   "source": [
    "**(10.10) Rank from Stream:** Imagine you are reading in a stream of integers. Periodically, you wish to be able to look up the rank of a number x (the number of values less than or equal to x). Implement the data structures and algorithms to support these operations. That is, implement the method ```track(int x)```, which is called when each number is generated, and the method ```getRankOfNumber(int x)```, which returns the number of values (less than or equal to x (not including x itself)."
   ]
  },
  {
   "cell_type": "code",
   "execution_count": 12,
   "metadata": {},
   "outputs": [],
   "source": [
    "class RankBinarySearchTree(BinarySearchTree):\n",
    "\n",
    "    def track(self, val):\n",
    "        BinarySearchTree.put(val)\n",
    "        \n",
    "    def getRankOfNumber(self, data):\n",
    "        if not self.root:\n",
    "            return None\n",
    "        return self._getRankOfNumber(self.root, data)\n",
    "\n",
    "    def _getRankOfNumber(self, node, val, found = False):\n",
    "        if not node:\n",
    "            return 0\n",
    "        count = 0\n",
    "        count += self._getRankOfNumber(node.left, val, found)\n",
    "        if val <= node.val:\n",
    "            if not found and val == node.val:\n",
    "                found = True\n",
    "            elif found:\n",
    "                count += 1\n",
    "        else:\n",
    "            count += self._getRankOfNumber(node.right, val, found) \\\n",
    "                  + 1\n",
    "        return count"
   ]
  },
  {
   "cell_type": "markdown",
   "metadata": {},
   "source": [
    "**(10.11) Peaks and Valleys:** In an array of integers, a \"peak\" is an element which is greater than or equal to the adjacent integers and a \"valley\" is an element which is less than or equal to the adjacent integers. For example, in the array (5, 8, 6, 2, 3, 4, 6), (8,6) are peaks and (5, 2) are valleys. Given an array of integers, sort the array into an alternating sequence of peaks and valleys."
   ]
  },
  {
   "cell_type": "code",
   "execution_count": 13,
   "metadata": {},
   "outputs": [],
   "source": [
    "def zoom_on_three(array, size, a, b, c): \n",
    "    a_val, b_val, c_val = array[a], array[b], array[c] \n",
    "    min_val = min(a_val, b_val, c_val)\n",
    "    if min_val == b_val: #Swap values to put the smallest integer in the middle\n",
    "        return (a_val, b_val, c_val)\n",
    "    elif min_val == a_val:\n",
    "        return (b_val, a_val, c_val)\n",
    "    else:\n",
    "        return(a_val, c_val, b_val)\n",
    "\n",
    "def peaks_and_valleys(array):\n",
    "    size = len(array)\n",
    "    if size < 3: #All arrays of length less than 3 follow the pattern\n",
    "        return array\n",
    "    a,b,c = 0,1,2\n",
    "    while c < size:\n",
    "        array[a], array[b], array[c] = zoom_on_three(array, size, a, b, c)#Look at 3 integers at a time\n",
    "        a += 2\n",
    "        b += 2\n",
    "        c += 2\n",
    "    return array\n",
    "\n",
    "def check_peaks_and_valleys(array): #Used for testing\n",
    "    for i in range(len(array)-2):\n",
    "        if (array[i] <= array[i+1] and array[i+1] <= array[i+2]) or \\\n",
    "            array[i] >= array[i+1] and array[i+1] >= array[i+2]:\n",
    "            return False\n",
    "    return True"
   ]
  },
  {
   "cell_type": "markdown",
   "metadata": {},
   "source": [
    "**Unit tests:** "
   ]
  },
  {
   "cell_type": "code",
   "execution_count": 14,
   "metadata": {},
   "outputs": [
    {
     "name": "stderr",
     "output_type": "stream",
     "text": [
      "..........\n",
      "----------------------------------------------------------------------\n",
      "Ran 10 tests in 0.034s\n",
      "\n",
      "OK\n"
     ]
    }
   ],
   "source": [
    "import unittest\n",
    "\n",
    "class Test(unittest.TestCase):\n",
    "    def test_sorted_merge(self):\n",
    "        a = [1,3,5,7,9,None,None,None,None]\n",
    "        b = [2,4,6,8,]\n",
    "        sorted_merge(a, b)\n",
    "        self.assertEqual(a, [1,2,3,4,5,6,7,8,9])\n",
    "    def test_group_anagrams(self):\n",
    "        input = [\"abc\", \"ghi\", \"def\", \"hig\", \"cba\", \"fde\"]\n",
    "        output = [\"abc\", \"cba\", \"def\", \"fde\", \"ghi\", \"hig\"]\n",
    "        self.assertEqual(group_anagrams(input), output)\n",
    "    def test_search_in_rotated_array(self):\n",
    "        array = [15,16,19,20,25,1,3,4,5,7,10,14]\n",
    "        self.assertEqual(search_in_rotated_array(array, 5), 8)\n",
    "    def test_sorted_search(self):\n",
    "        input = Listy([1,2,3,4,5,6])\n",
    "        self.assertEqual(sorted_search(input, 4), 3)\n",
    "    def test_sparse_search(self):\n",
    "        input = [\"at\", \"\", \"\", \"\", \"ball\", \"\", \"\", \"car\", \"\", \"\", \"dad\", \"\", \"\"]\n",
    "        self.assertEqual(sparse_search(input, \"ball\"), 4)\n",
    "    def test_missing_int(self):\n",
    "        input = [0,1,2,4]\n",
    "        self.assertEqual(input.count(missing_int(input)), 0)\n",
    "    def test_missing_int_follow_up(self):\n",
    "        input = [0,1,2,3,4,5,6,8,9,10,11]\n",
    "        self.assertEqual(input.count(missing_int_follow_up(input)), 0)      \n",
    "    def test_find_duplicates(self):\n",
    "        input = [0,1,2,2,3,4,4]\n",
    "        self.assertEqual(find_duplicates(input), [2,4]) \n",
    "    def test_sorted_matrix_search(self):\n",
    "        input = [[0, 1, 2, 3, 4, 5, 6 ],\n",
    "                 [7, 8, 9, 10,11,12,13],\n",
    "                 [14,15,16,17,18,19,20 ]]\n",
    "        self.assertEqual(sorted_matrix_search(input,7,14), (2,0)) \n",
    "    def test_rank_from_stream(self):\n",
    "        input = RankBinarySearchTree()\n",
    "        input.put([10,2,3,4,9,8])\n",
    "        self.assertEqual(input.getRankOfNumber(8), 3)\n",
    "    def test_sorted_matrix_search(self):\n",
    "        input = [1,2,3,4,5,6,7,8,9]\n",
    "        self.assertTrue(check_peaks_and_valleys(peaks_and_valleys(input))) \n",
    "\n",
    "if __name__ == \"__main__\":\n",
    "    unittest.main(argv=['first-arg-is-ignored'], exit=False)"
   ]
  }
 ],
 "metadata": {
  "kernelspec": {
   "display_name": "Python 3",
   "language": "python",
   "name": "python3"
  },
  "language_info": {
   "codemirror_mode": {
    "name": "ipython",
    "version": 3
   },
   "file_extension": ".py",
   "mimetype": "text/x-python",
   "name": "python",
   "nbconvert_exporter": "python",
   "pygments_lexer": "ipython3",
   "version": "3.7.1"
  }
 },
 "nbformat": 4,
 "nbformat_minor": 2
}
