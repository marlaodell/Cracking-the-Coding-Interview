{
 "cells": [
  {
   "cell_type": "markdown",
   "metadata": {},
   "source": [
    "# Chapter 14 - Databeses\n",
    "Marla Odell"
   ]
  },
  {
   "cell_type": "markdown",
   "metadata": {},
   "source": [
    "![alt text](Images/apartment-tables.png \"Title\")"
   ]
  },
  {
   "cell_type": "markdown",
   "metadata": {},
   "source": [
    "**(14.1) Multiple Apartments:** Write a SQL query to get a list of tenants who are renting more than one\n",
    "apartment."
   ]
  },
  {
   "cell_type": "markdown",
   "metadata": {},
   "source": [
    "```\n",
    "SELECT TenantName\n",
    "FROM Tenants\n",
    "INNER JOIN \n",
    "    (SELECT TenantID \n",
    "     FROM AptTenants\n",
    "     GROUP BY TenantID \n",
    "     HAVING COUNT(AptID)>1) MultiTenants\n",
    "ON MultiTenants.TenantID = Tenants.TenantID\n",
    "```"
   ]
  },
  {
   "cell_type": "markdown",
   "metadata": {},
   "source": [
    "**(14.2) Open Requests:** Write a SQL query to get a list of all buildings and the number of open requests (Requests in which status equals 'Open')."
   ]
  },
  {
   "cell_type": "markdown",
   "metadata": {},
   "source": [
    "``` \n",
    "SELECT BuildingName, ISNull(Count, 0) AS OpenRequests\n",
    "FROM Buildings\n",
    "LEFT JOIN\n",
    "    (SELECT BuildingID, Count(*) AS OpenRequests\n",
    "     FROM Apartments\n",
    "     INNER JOIN Requests\n",
    "         ON Apartments.AptID = Requests.AptID\n",
    "     WHERE Requests.Status = 'Open'\n",
    "     GROUP BY Apartments.BuildingID) CountedRequests\n",
    "On Building.BuildingID = CountedRequests.BuildingID \n",
    "```"
   ]
  },
  {
   "cell_type": "markdown",
   "metadata": {},
   "source": [
    "**(14.3) Close All Requests:** Building 11 is undergoing a major renovation. Implement a query to close all requests from apartments in this building."
   ]
  },
  {
   "cell_type": "markdown",
   "metadata": {},
   "source": [
    "```\n",
    "UPDATE Requests\n",
    "SET Satus = 'Closed'\n",
    "WHERE AptID IN \n",
    "    (SELECT AptID\n",
    "     FROM Apartments\n",
    "     WHERE Building ID = 11)\n",
    "```"
   ]
  },
  {
   "cell_type": "markdown",
   "metadata": {},
   "source": [
    "**(14.4) Joins:** What are the different types of joins? Please explain how they differ and why certain types are better in certain situations."
   ]
  },
  {
   "cell_type": "markdown",
   "metadata": {},
   "source": [
    "I will explain based on two hypothetical tables: A, B. And use the following structure for reference: \n",
    "\n",
    "```SELECT ... FROM A [JOIN TYPE] B ON ...```\n",
    "1. **Inner Join**: All records from A and B, where the condition is met.\n",
    "2. **Full Outer Join**: All records from A and B, regarless if the condition(s) is met. \n",
    "3. **Left Outer Join**: All records from A, and the records from B where the condition(s) is met.\n",
    "4. **Right Outer Join**: All records from B, and the records from A where the condition(s) is met."
   ]
  },
  {
   "cell_type": "markdown",
   "metadata": {},
   "source": [
    "**(14.5) Denormaiization:** What is denormaiization? Explain the pros and cons."
   ]
  },
  {
   "cell_type": "markdown",
   "metadata": {},
   "source": [
    "**Denormaiization** is when you store redundant values in tables (i.e., there are multiple ways to get the same information)\n",
    "\n",
    "* Pros: Requires fewer joins, enables faster queries\n",
    "* Cons: Complicates inserts and updates, introduces potential inconsistencies data, requires more storage"
   ]
  },
  {
   "cell_type": "markdown",
   "metadata": {},
   "source": [
    "**(14.6) Entity-Relationship Diagram:** Draw an entity-relationship diagram for a database with companies, people, and professionals {people who work for companies)."
   ]
  },
  {
   "cell_type": "markdown",
   "metadata": {},
   "source": [
    "![alt text](Images/people-professional-company.png \"Title\")"
   ]
  },
  {
   "cell_type": "markdown",
   "metadata": {},
   "source": [
    "**(14.7) Design Grade Database:** Imagine a simple database storing information for students' grades. Design what this database might look like and provide a SQL query to return a list of the honor roll students (top 10%), sorted by their grade point average."
   ]
  },
  {
   "cell_type": "markdown",
   "metadata": {},
   "source": [
    "I would represent this database in three tables:\n",
    "* Students: StudentID (int), Name (varchar)\n",
    "* Courses: CourseID (int), Title (varchar), Instructor (varchar)\n",
    "* Enrollment: StudentID (int), CourseID (int), Semester (int), Grade (float)\n",
    "\n",
    "And query it as follows:\n",
    "```\n",
    "SELECT TOP 10 PERCENT AVG(Grade) AS GPA, Students.Name\n",
    "FROM Enrollment\n",
    "INNER JOIN Students \n",
    "    ON Students.StudentID = Enrollment.StudentID\n",
    "GROUP BY StudentID\n",
    "ORDER BY AVG(Grade)\n",
    "```"
   ]
  }
 ],
 "metadata": {
  "kernelspec": {
   "display_name": "Python 3",
   "language": "python",
   "name": "python3"
  },
  "language_info": {
   "codemirror_mode": {
    "name": "ipython",
    "version": 3
   },
   "file_extension": ".py",
   "mimetype": "text/x-python",
   "name": "python",
   "nbconvert_exporter": "python",
   "pygments_lexer": "ipython3",
   "version": "3.7.1"
  }
 },
 "nbformat": 4,
 "nbformat_minor": 2
}
