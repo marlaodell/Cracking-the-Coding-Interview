{
 "cells": [
  {
   "cell_type": "markdown",
   "metadata": {},
   "source": [
    "# Chapter 6 - Math and Logic Puzzles\n",
    "Marla Odell"
   ]
  },
  {
   "cell_type": "markdown",
   "metadata": {},
   "source": [
    "**(6.1) Heavy Pill:** You have 20 bottles of pills. 19 bottles have 1.0 gram pills, but one has pills of weight\n",
    "1.1 grams. Given a scale that provides an exact measurement, how would you find the heavy bottle?\n",
    "You can only use the scale once."
   ]
  },
  {
   "cell_type": "markdown",
   "metadata": {},
   "source": [
    "*Notation: the bottles are labeled from $B_1$, $B_2$, $B_3$, ... $B_{20}$.*\n",
    "\n",
    "I will set aside 1 pill from $B_1$, 2 pills from $B_2$, 3 pills from $B_3$, continueing until I take 20 pill from $B_{20}$. Then, I would weigh all the pills set aside. Knowing that the difference between the pill weights is 0.1 grams, I could determine which bottle ($b$) had the heavier pills by looking at the total weight.\n",
    "\n",
    "$$total\\_weight = \\sum_{i=1}^{20}i + (0.1)b \\quad \\rightarrow \\quad b = \\frac{total\\_weight - \\sum_{i=1}^{20}i}{0.1}$$"
   ]
  },
  {
   "cell_type": "markdown",
   "metadata": {},
   "source": [
    "**(6.2) Basketball:** You have a basketball hoop and someone says that you can play one of two games.\n",
    "\n",
    "* Game 1: You get one shot to make the hoop.\n",
    "* Game 2: You get three shots and you have to make two of three shots.\n",
    "\n",
    "If p is the probability of making a particular shot, for which values of p should you pick one game\n",
    "or the other?"
   ]
  },
  {
   "cell_type": "markdown",
   "metadata": {},
   "source": [
    "*Notation: 1 will indicate making a shot while 0 indicates missing a shot. Successive outcomes will be linked by commas (e.g., the probability of making only the first shot is given by $P(1,0,0)$).*\n",
    "\n",
    "First, solving for the probability of winning Game 1 and Game 2, independently:\n",
    "\n",
    "* $P_1(winning) = P(1) = p$\n",
    "* $P_2(winning) = P(1,1,1)+ P(1,1,0) - P(0,1,1) - P(1,0,1)= p^3 + 3p^2(1-p)=-2p^3+3p^2$\n",
    "\n",
    "Then, solving for when the probability of winning Game 1 is greater than the probability of winning Game 2:\n",
    "\n",
    "$$P_1(winning) > P_2(winning)$$\n",
    "$$p > -2p^3+3p^2$$\n",
    "$$0 < (2p-1)(p-1)$$\n",
    "\n",
    "By definition, $p \\leq 1$ must be negative. It closely follows,\n",
    "$$2p - 1 < 0$$\n",
    "$$p < 0.5$$\n",
    "\n",
    "Therefore, we should play Game 1 if $(0 < p < 0.5)$ and Game 2 if $(0.5 < p < 1)$, indifferent if $(p=0.5)$."
   ]
  },
  {
   "cell_type": "markdown",
   "metadata": {},
   "source": [
    "**(6.3) Dominos:** There is an 8x8 chessboard in which two diagonally opposite corners have been cut off. You are given 31 dominos, and a single domino can cover exactly two squares. Can you use the 31 dominos to cover the entire board? Prove your answer (by providing an example or showing why it's impossibie)."
   ]
  },
  {
   "cell_type": "markdown",
   "metadata": {},
   "source": [
    "This is impossible. We know a chessboard consists of 32 white and 32 black squares, where each square is cater cornor from its like color (i.e., in a checkerboard). Therefore when we remove two diagonally opposite corners they are guaranteed to be the same color. Now we have 30 white and 32 black squares (or flipped). When we place a domino it must go on one white and one black square (because it is bound to the horizonal and verticle axes). Therefore it is impossible to place more than 30 dominos on the altered chessboard."
   ]
  },
  {
   "cell_type": "markdown",
   "metadata": {},
   "source": [
    "**(6.4) Ants on a Triangle:** There are three ants on different vertices of a triangle. What is the probability of collision (between any two or all of them) if they start walking on the sides of the triangle? Assume that each ant randomly picks a direction, with either direction being equally likely to be chosen, and that they walk at the same speed.\n",
    "\n",
    "Similarly, find the probability of collision with n ants on an n-vertex polygon."
   ]
  },
  {
   "cell_type": "markdown",
   "metadata": {},
   "source": [
    "The ants will collide if they do not all pick the same direction. Considering the case of a triangle with 3 ants, this amounts to:\n",
    "$$P_3(collision) = 1 - P(all \\: clockwise) - P(all \\: counterclockwise) = 1 - \\left(\\frac{1}{2}\\right)^3 - \\left(\\frac{1}{2}\\right)^3 = \\frac{3}{4}$$\n",
    "\n",
    "Expanding to the case of an n-vertex polygon with n ants amounts to: \n",
    "$$P_n(collision) = 1 - \\left(\\frac{1}{2}\\right)^n - \\left(\\frac{1}{2}\\right)^n = 1 - \\frac{1}{2^{n-1}}$$"
   ]
  },
  {
   "cell_type": "markdown",
   "metadata": {},
   "source": [
    "**(6.5) Jugs of Water:** You have a five-quart jug, a three-quart jug, and an unlimited supply of water (but no measuring cups). How would you come up with exactly four quarts of water? Note that the jugs are oddly shaped, such that filling up exactly \"half\" of the jug would be impossible."
   ]
  },
  {
   "cell_type": "markdown",
   "metadata": {},
   "source": [
    "*Notation: (f, t) indicates there are f quarts in the five-quart jug and t quarts in the 3-quart jug **before** the given step.*\n",
    "\n",
    "I would do this with the following steps:\n",
    "1. (0,0) Fill the five-quart jug\n",
    "2. (5,0) Pour the full five-quart jug into the three-quart jug until the later is full\n",
    "3. (2,3) Dump the three-quart jug\n",
    "4. (2,0) Pour the five-quart jug's contents into the 3 quart jug\n",
    "5. (0,2) Fill the five-quart jug\n",
    "6. (5,2) Pour the five-quart jug into the three-quart jug until the later is full\n",
    "    \n",
    "At this point, the five-quart jug will contain exactly 4 quarts of water."
   ]
  },
  {
   "cell_type": "markdown",
   "metadata": {},
   "source": [
    "**(6.6) Blue-Eyed Island:** A bunch of people are living on an island, when a visitor comes with a strange order: all blue-eyed people must Leave the island as soon as possible. There will be a flight out at 8:00pm every evening. Each person can see everyone else's eye color, but they do not know their own (nor is anyone allowed to tell them). Additionally, they do not know how many people have blue eyes, although they do know that at least one person does. How many days will it take the blue-eyed people to leave?"
   ]
  },
  {
   "cell_type": "markdown",
   "metadata": {},
   "source": [
    "*The number of blue-eyed people on the island is represented as $b$.*\n",
    "\n",
    "$b = 1$ (Base Case): The blue-eyed person will look around, not see any other blue-eyed people, know there must be at least one blue-eyed person, recognize it must therefore be them, and leave the first night. \n",
    "\n",
    "$b = 2$: The blue-eyed people will look around, see exactly one other blue-eyed person, assume it is not them, and stay the first night. When no one leaves the first night, they will know there are two blue-eyed people. Since they only see one blue-eyed person, they will recognize they must there be the other, and leave the second night. \n",
    "\n",
    "...\n",
    "\n",
    "$b = n$: The blue-eyed people will look around, see exactly (n-1) other blue-eyed person, assume it is not them, and stay the first (n-1) nights. When no one leaves the (n-1)-th night, they will know there are n blue-eyed people. Since they only see (n-1) blue-eyed people, they will recognize they must there be the other, and leave the n-th night. \n",
    "\n",
    "As a generalization, if there are $b$ blue-eyed people, it will take b days for them to leave."
   ]
  },
  {
   "cell_type": "markdown",
   "metadata": {},
   "source": [
    "**(6.7) The Apocalypse:** In the new post-apocalyptic world, the world queen is desperately concerned about the birth rate. Therefore, she decrees that all families should ensure that they have one girl or else they face massive fines. If all families abide by this policy—that is, they have continue to have children until they have one girl, at which point they immediately stop—what will the gender ratio of the new generation be? (Assume that the odds of someone having a boy or a girl on any given pregnancy is equal.)"
   ]
  },
  {
   "cell_type": "markdown",
   "metadata": {},
   "source": [
    "Because the probability of having a girl versus a boy remains equal, the new policy does not change the gender ratio. It remains 1:1. To prove this I have written a simulation below."
   ]
  },
  {
   "cell_type": "code",
   "execution_count": 13,
   "metadata": {},
   "outputs": [
    {
     "name": "stdout",
     "output_type": "stream",
     "text": [
      "0.509286412512219\n"
     ]
    }
   ],
   "source": [
    "import random \n",
    "\n",
    "def birth():\n",
    "    return random.choice([\"B\", \"G\"])\n",
    "\n",
    "def family(children):\n",
    "    has_girl = False\n",
    "    while not has_girl:\n",
    "        next_child = birth()\n",
    "        if next_child == \"B\":\n",
    "            has_girl = True\n",
    "        children += next_child\n",
    "    return children\n",
    "\n",
    "def population(family_count):\n",
    "    children = \"\"\n",
    "    for x in range(family_count): \n",
    "        children += family(children)\n",
    "    return children\n",
    "\n",
    "def gender_ratio(children):\n",
    "    return children.count(\"G\") / children.count(\"B\")\n",
    "\n",
    "children = population(10) #Adjust to represent the number of families in the population\n",
    "print(gender_ratio(children)) #Given as # of girls / # of boys"
   ]
  },
  {
   "cell_type": "markdown",
   "metadata": {},
   "source": [
    "**(6.8) The Egg Drop Problem:** There is a building of 100 floors. If an egg drops from the Nth floor or above, it will break. If it's dropped from any floor below, it will not break. You're given two eggs. Find N, while minimizing the number of drops for the worst case."
   ]
  },
  {
   "cell_type": "markdown",
   "metadata": {},
   "source": [
    "My general methodology is to use the first egg to narrow down on a window of possible floors, and then use the second egg to traverse them in ascending order to find the exact floor of breakage. \n",
    "\n",
    "To generalize this, I will say it takes $f$ drops to identify the exact floor of breakage. I will make my first attempt with the first egg on floor $f$. If it breaks, I will need to make at most $(f-1)$ attempts with the second egg. If it does not break, I will jump $(f-1)$ floors and try again. If it breaks, I will need to make at most $(f-2)$ attempts with the second egg. If it does not break, I will jump $(f-2)$ floors and try again. If it breaks, I will need to make at most $(f-3)$ attempts with the second egg. Continueing this until I reach the top floor yields the following summation: $x + (x-1) + (x-2) + (x-3) + ... 1$. This will be optimized if the total sum equals the number of floors, 100. \n",
    "\n",
    "$$100 = x + (x-1) + (x-2) + (x-3) + ... 1 = \\frac{x(x+1)}{2}$$\n",
    "$$\\therefore x \\approx 14$$\n",
    "\n",
    "So we should start by dropping the first egg on the 14th floor. Following this methodology, the worst case will require 14 tosses. "
   ]
  },
  {
   "cell_type": "markdown",
   "metadata": {},
   "source": [
    "**(6.9) 100 Lockers:** There are 100 closed lockers in a hallway. A man begins by opening all 100 lockers. Next, he closes every second locker. Then, on his third pass, he toggles every third locker (closes it if it is open or opens it if it is closed). This process continues for 100 passes, such that on each pass i, the man toggles every i t h locker. After his 100th pass in the hallway, in which he toggles only locker 100, how many lockers are open?"
   ]
  },
  {
   "cell_type": "markdown",
   "metadata": {},
   "source": [
    "The man is toggling all the lockers that are factors of the given round. Therefore, the only doors left open at the end (i.e., in the opposite position of starting) are those with an odd number of factors. Because multiplication is commutative, most factors come in pairs. But, the exception is perfect squares. So, in the end, only the 10 lockers of perfect squares will remain open."
   ]
  },
  {
   "cell_type": "markdown",
   "metadata": {},
   "source": [
    "**(6.10) Poison:** You have 1,000 bottles of soda, and exactly one is poisoned. You have 10 test strips which can be used to detect poison. A single drop of poison will turn the test strip positive permanently. You can put any number of drops on a test strip at once and you can reuse a test strip as many times as you'd like (as long as the results are negative). However, you can only run tests once per day and it takes seven days to return a result. How would you figure out the poisoned bottle in as few days\n",
    "as possible?"
   ]
  },
  {
   "cell_type": "markdown",
   "metadata": {},
   "source": [
    "*Notation: bottles are labeld from $b_1$, $b_2$, $b_3$, ... $b_{1,000}$*\n",
    "\n",
    "I would conduct the following tests, sending one out each day:\n",
    "1. Divide the bottles by their **first** digit (i.e., group 0 includes $b_1$ to $b_{99}$) into groups. Put a drop from each bottle within a group on a test strip. \n",
    "2. Divide the bottles by their **second** digit into groups. Put a drop from each bottle within a group on a test strip. \n",
    "3. Divide the bottles by their **third** digit into groups. Put a drop from each bottle within a group on a test strip. \n",
    "4. Using the same third-digit grouping, put a drop from each bottle on the next test strip (rotating them all).\n",
    "\n",
    "After 10 days (i.e., the third test), in most cases we will be able to simply identify digits by looking at the day-by-day results. But, there are a few more complex cases to consider:\n",
    "\n",
    "* If in the second round no new test strip changes color, we can deduce the first and second digit are the same. \n",
    "* If in the third round no new test strip changes color and we already know the first and second digit are the same, we can deduce all the digits are the same. \n",
    "* If in the third round no new test strip changes color and we already know the first and second digits are distinct. we will look at the forth test to determine if the third digit matches the first or secon digit.\n",
    "\n",
    "At most, it will take 11 days to identify the poisonous bottle. "
   ]
  }
 ],
 "metadata": {
  "kernelspec": {
   "display_name": "Python 3",
   "language": "python",
   "name": "python3"
  },
  "language_info": {
   "codemirror_mode": {
    "name": "ipython",
    "version": 3
   },
   "file_extension": ".py",
   "mimetype": "text/x-python",
   "name": "python",
   "nbconvert_exporter": "python",
   "pygments_lexer": "ipython3",
   "version": "3.7.1"
  }
 },
 "nbformat": 4,
 "nbformat_minor": 2
}
