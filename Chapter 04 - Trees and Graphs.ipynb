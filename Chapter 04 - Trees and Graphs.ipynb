{
 "cells": [
  {
   "cell_type": "markdown",
   "metadata": {},
   "source": [
    "# Chapter 4 - Trees and Graphs\n",
    "Marla Odell"
   ]
  },
  {
   "cell_type": "code",
   "execution_count": 3,
   "metadata": {},
   "outputs": [],
   "source": [
    "import sys\n",
    "from trees_and_nodes import *\n",
    "from graph import *\n",
    "from linked_list import *\n",
    "from stack_and_queue import *"
   ]
  },
  {
   "cell_type": "markdown",
   "metadata": {},
   "source": [
    "**(4.1) Route Between Notes:** Given a directed graph, design an algorithm to find out whether there is a route between two nodes."
   ]
  },
  {
   "cell_type": "code",
   "execution_count": 4,
   "metadata": {},
   "outputs": [],
   "source": [
    "def route_between_nodes(g, v, w):\n",
    "    if v == w:\n",
    "        return True\n",
    "    for x in g.vertices.values():\n",
    "        x.state = State.UNSEEN\n",
    "    q = Queue()\n",
    "    v.state = State.LOOKING_AT\n",
    "    q.enqueue(v)\n",
    "    while len(q) > 0:\n",
    "        x = q.dequeue()\n",
    "        for adj_vertex in x.adj:\n",
    "            if adj_vertex.state == State.UNSEEN:\n",
    "                if adj_vertex == w:\n",
    "                    return True\n",
    "                adj_vertex.state = State.LOOKING_AT\n",
    "                q.enqueue(adj_vertex)\n",
    "        x.state = State.SEEN"
   ]
  },
  {
   "cell_type": "markdown",
   "metadata": {},
   "source": [
    "**(4.2) Minimal Tree:** Given a sorted (increasing order) array with unique integer elements, write an algorithm to create a binary search tree with minimal height."
   ]
  },
  {
   "cell_type": "code",
   "execution_count": 5,
   "metadata": {},
   "outputs": [],
   "source": [
    "class MinimalTree(BinarySearchTree):\n",
    "    \n",
    "    def __init__(self, sorted_array = None):\n",
    "        self.root = self.put_sorted_array(sorted_array)\n",
    "        \n",
    "    def put_sorted_array(self, sorted_array):\n",
    "        if sorted_array:\n",
    "            self.root = self._put_sorted_array(sorted_array)    \n",
    "            return self.root\n",
    "        return None\n",
    "    \n",
    "    def _put_sorted_array(self, sorted_array):\n",
    "        if not sorted_array:\n",
    "            return None\n",
    "        middle = len(sorted_array) // 2\n",
    "        root = BinaryTreeNode(sorted_array[middle])\n",
    "        root.left = self._put_sorted_array(sorted_array[:middle])\n",
    "        root.right = self._put_sorted_array(sorted_array[middle + 1:])\n",
    "        return root\n",
    "    \n",
    "    def _max_depth(self, node): \n",
    "        if node is None: \n",
    "            return 0 \n",
    "        return max(self._max_depth(node.left) + 1, self._max_depth(node.right) + 1)    \n",
    "\n",
    "    def max_depth(self):\n",
    "        return self._max_depth(self.root)"
   ]
  },
  {
   "cell_type": "markdown",
   "metadata": {},
   "source": [
    "**(4.3) List of Depths:** Given a binary tree, design an algorithm which creates a linked list of all the nodes at each depth (e.g., if you have a tree with depth D, you'll have D linked lists)."
   ]
  },
  {
   "cell_type": "code",
   "execution_count": 6,
   "metadata": {},
   "outputs": [],
   "source": [
    "def list_of_depths(root):\n",
    "    previous, current = None, 0\n",
    "    q = Queue()\n",
    "    q.enqueue((root, current))\n",
    "    depths = []\n",
    "    while len(q) > 0:\n",
    "        x, current = q.dequeue()\n",
    "        if current == previous:\n",
    "            ll = depths.pop()\n",
    "        else:\n",
    "            ll = LinkedList()\n",
    "        ll.add_back(x)\n",
    "        depths.append(ll)\n",
    "        if x.left:\n",
    "            q.enqueue((x.left, current + 1)) #Add to the start\n",
    "        if x.right:\n",
    "            q.enqueue((x.right, current + 1)) #Add to the start\n",
    "        previous = current\n",
    "    return depths\n",
    "\n",
    "def string_representation(depths): #Used in testing and debugging\n",
    "    string = \"\"\n",
    "    for d in depths:\n",
    "        string += str(d) + \"|\"\n",
    "    print(string[:-1])"
   ]
  },
  {
   "cell_type": "code",
   "execution_count": 7,
   "metadata": {},
   "outputs": [],
   "source": [
    "def list_of_depths(bt):\n",
    "    prior = None\n",
    "    current = 0\n",
    "    q = Queue()\n",
    "    q.enqueue((bt.root, current))\n",
    "    depths = []\n",
    "    while len(q) != 0:\n",
    "        x, current = q.dequeue()\n",
    "        if current != prior:\n",
    "            ll = LinkedList()\n",
    "        else:\n",
    "            ll = depths.pop()\n",
    "        ll.add_back(x)\n",
    "        depths.append(ll)\n",
    "        if x.left:\n",
    "            q.enqueue((x.left, current+1))\n",
    "        if x.right:\n",
    "            q.enqueue((x.right, current+1))\n",
    "        prior = current\n",
    "    return depths\n",
    "\n",
    "def string_builder(depths):\n",
    "    string = \"\"\n",
    "    for d in depths:\n",
    "        string += str(d) + \" | \"\n",
    "    return string[:-3]"
   ]
  },
  {
   "cell_type": "markdown",
   "metadata": {},
   "source": [
    "**(4.4) Check Balanced:** Implement a function to check if a binary tree is balanced. For the purposes of this question, a balanced tree is defined to be a tree such that the heights of the two subtrees of any node never differ by more than one."
   ]
  },
  {
   "cell_type": "code",
   "execution_count": 8,
   "metadata": {},
   "outputs": [],
   "source": [
    "#Uses mas_depth(node) from (4.2)\n",
    "\n",
    "def check_balanced(bst):\n",
    "    root = bst.root\n",
    "    if not root: \n",
    "        return True\n",
    "    elif abs(max_depth_from_node(bst, root.left) - max_depth_from_node(bst, root.right)) <= 1: #Check if balanced\n",
    "        return True\n",
    "    return False\n",
    "\n",
    "def max_depth_from_node(bst, node): \n",
    "    if node is None: \n",
    "        return 0 \n",
    "    return max(max_depth_from_node(bst, node.left) + 1, max_depth_from_node(bst, node.right) + 1)    "
   ]
  },
  {
   "cell_type": "markdown",
   "metadata": {},
   "source": [
    "**(4.5) Validate BST:** Implement a function to check if a binary tree is a binary search tree."
   ]
  },
  {
   "cell_type": "code",
   "execution_count": 9,
   "metadata": {},
   "outputs": [],
   "source": [
    "def validate_bst(tree):\n",
    "\n",
    "    def _validate_bst(node, left_bound, right_bound):\n",
    "        if not node:\n",
    "            return True\n",
    "        return node.val >= left_bound and node.val <= right_bound and \\\n",
    "            _validate_bst(node.left, left_bound, node.val) and \\\n",
    "            _validate_bst(node.right, node.val, right_bound)\n",
    "    \n",
    "    node = tree.root\n",
    "    return _validate_bst(tree.root, -sys.maxsize - 1, sys.maxsize)"
   ]
  },
  {
   "cell_type": "markdown",
   "metadata": {},
   "source": [
    "**(4.6) Successor:** Write an algorithm to find the \"next\" node (i.e., in-order successor) of a given node in a binary search tree. You may assume that each node has a link to its parent."
   ]
  },
  {
   "cell_type": "code",
   "execution_count": 10,
   "metadata": {},
   "outputs": [],
   "source": [
    "def successor(bst, node):\n",
    "    \n",
    "    def _successor(root, node): \n",
    "        if node.right: #Successor in right subtree\n",
    "            node = node.right\n",
    "            while node: \n",
    "                if not node.left: \n",
    "                    return node\n",
    "                node = node.left \n",
    "        above = node.parent #Travel up\n",
    "        while above: \n",
    "            if node != above.right : \n",
    "                return above \n",
    "            node = above \n",
    "            above = above.parent \n",
    "            \n",
    "    return _successor(bst.root, node)"
   ]
  },
  {
   "cell_type": "markdown",
   "metadata": {},
   "source": [
    "**(4.7) Build Order:** You are given a list of projects and a list of dependencies (which is a list of pairs of projects, where the second project is dependent on the first project). All of a project's dependencies must be built before the project is. Find a build order that will allow the projects to be built. If there is no valid build order, return an error."
   ]
  },
  {
   "cell_type": "code",
   "execution_count": 11,
   "metadata": {},
   "outputs": [],
   "source": [
    "def build_order(projects, dependencies):\n",
    "    \n",
    "    def _dfs(order, v):\n",
    "        if v.state == State.LOOKING_AT:\n",
    "            return False\n",
    "        if v.state == State.UNSEEN:\n",
    "            v.state = State.LOOKING_AT\n",
    "            for adj in v.adj.keys(): #Loop through edges\n",
    "                if not _dfs(order, adj):\n",
    "                    return False\n",
    "            v.state = State.SEEN #Mark as visited\n",
    "            order.insert(0, v.key)\n",
    "        return True\n",
    "    \n",
    "    g = build_graph(projects, dependencies)\n",
    "    order = []\n",
    "    for v in g.vertices.values():\n",
    "        if not _dfs(order, v):\n",
    "            return None\n",
    "    return order"
   ]
  },
  {
   "cell_type": "markdown",
   "metadata": {},
   "source": [
    "**(4.8) First Common Ancestor:** Design an algorithm and write code to find the first common ancestor of two nodes in a binary tree. Avoid storing additional nodes in a data structure. NOTE: This is not necessarily a binary search tree."
   ]
  },
  {
   "cell_type": "code",
   "execution_count": 12,
   "metadata": {},
   "outputs": [],
   "source": [
    "def first_common_ancestor(tree, node_1, node_2):\n",
    "\n",
    "    def _first_common_ancestor(root, node_1, node_2): # pass root in\n",
    "        if not root or not node_1 or not node_2:\n",
    "            return None\n",
    "        if root == node_1 or root == node_2:\n",
    "            return root\n",
    "        left_side = _first_common_ancestor(root.left, node_1, node_2)\n",
    "        right_side = _first_common_ancestor(root.right, node_1, node_2)\n",
    "        if left_side and right_side:\n",
    "            return root\n",
    "        if left_side:\n",
    "            return left_side\n",
    "        else:\n",
    "            return right_side\n",
    "\n",
    "    return _first_common_ancestor(tree.root, node_1, node_2)"
   ]
  },
  {
   "cell_type": "markdown",
   "metadata": {},
   "source": [
    "**(4.9) BST Sequence:** A binary search tree was created by traversing through an array from left to right and inserting each element. Given a binary search tree with distinct elements, print all possible arrays that could have led to this tree."
   ]
  },
  {
   "cell_type": "code",
   "execution_count": 13,
   "metadata": {},
   "outputs": [],
   "source": [
    "def bst_sequences(bst):\n",
    "  \n",
    "    def _bst_sequences_partial(partial, root):\n",
    "        if len(root) == 0:\n",
    "            return [partial]\n",
    "        list_of_seq = []\n",
    "        for i, node in enumerate(root):\n",
    "            next_subtree = root[:i] + root[i + 1:]\n",
    "            if node.left:\n",
    "                next_subtree.append(node.left)\n",
    "            if node.right:\n",
    "                next_subtree.append(node.right)\n",
    "            possible_seq = _bst_sequences_partial(partial + [node.val], next_subtree) #Recurse on remaining\n",
    "            list_of_seq += possible_seq\n",
    "        return list_of_seq\n",
    "    \n",
    "    return _bst_sequences_partial([], [bst.root])"
   ]
  },
  {
   "cell_type": "markdown",
   "metadata": {},
   "source": [
    "**(4.10) Check Subtree:** T1 and T2 are two very large binary trees, with TI much bigger than T2. Create an algorithm to determine if T2 is a subtree o f Tl. \n",
    "\n",
    "A tree T2 is a subtree of T1 if there exists a node n in T1 such that the subtree of n is identical to T2. That is, if you cut off the tree at node n, the two trees would be identical,"
   ]
  },
  {
   "cell_type": "code",
   "execution_count": 14,
   "metadata": {},
   "outputs": [],
   "source": [
    "def check_subtree(T1, T2): #Check if T2 is a subtree of T1\n",
    "    \n",
    "    def _same_tree(T1_node, T2_node): #Check if two trees are the same\n",
    "        if not T2_node: \n",
    "            return True\n",
    "        elif not T1_node: \n",
    "            return False \n",
    "        elif T1_node == T2_node:\n",
    "            left_side = _same_tree(T1_node.left , T2_node.left)\n",
    "            right_side = _same_tree(T1_node.right, T2_node.right) \n",
    "            return left_side and right_side\n",
    "        return False\n",
    "        \n",
    "    def _check_subtree(T1_node, T2_node):\n",
    "        if not T1_node:\n",
    "            return False\n",
    "        elif T1_node == T2_node:\n",
    "            return _same_tree(T1_node, T2_node)\n",
    "        return _check_subtree(T1_node.left, T2_node) and _check_subtree(T1_node.right, T2_node)\n",
    "\n",
    "    if not T1.root:\n",
    "        return False\n",
    "    elif not T2.root: \n",
    "        return True\n",
    "    return _check_subtree(T1.root, T2.root)"
   ]
  },
  {
   "cell_type": "markdown",
   "metadata": {},
   "source": [
    "**(4.11) Random Node:** You are implementing a binary tree that has a method ```getRandomNode()``` which returns a random node from the tree. All nodes should be equally likely to be chosen. Design and implement an algorithm for get RandomNode, and explain how you would implement the rest of the methods."
   ]
  },
  {
   "cell_type": "code",
   "execution_count": 15,
   "metadata": {},
   "outputs": [],
   "source": [
    "class RandomBinaryTree(BinarySearchTree):\n",
    "            \n",
    "    def getRandomNode(self, seed = None):\n",
    "        if seed:\n",
    "            return get_numbered_node(self.root, seed)\n",
    "        total_nodes = count_subtree_nodes(self.root)\n",
    "        random_number = random.randint(0, total_nodes - 1) #Generate a random number\n",
    "        return get_numbered_node(self.root, random_number)\n",
    "\n",
    "def count_subtree_nodes(root):\n",
    "    count = 0\n",
    "    if root:\n",
    "        count += count_subtree_nodes(root.left) \\\n",
    "              + count_subtree_nodes(root.right) \\\n",
    "              + 1 #Recusively count the subtrees\n",
    "    return count\n",
    "    \n",
    "def get_numbered_node(root, number):\n",
    "    if number == 0: #Found the n-th node\n",
    "        return root\n",
    "    if root.left: #Continue to traverse and decrement n\n",
    "        if number - 1 < count_subtree_nodes(root.left):\n",
    "            return get_numbered_node(root.left, number - 1)\n",
    "        elif node.right:\n",
    "            return get_numbered_node(root.right, number - 1 - root.left.count)\n",
    "    if root.right:\n",
    "        return get_numbered_node(root.right, number - 1)\n",
    "    return None"
   ]
  },
  {
   "cell_type": "markdown",
   "metadata": {},
   "source": [
    "**(4.12) Paths with Sum:** You are given a binary tree in which each node contains an integer value (which might be positive or negative). Design an algorithm to count the number of paths that sum to a given value. The path does not need to start or end at the root or a leaf, but it must go downwards (traveling only from parent nodes to child nodes)."
   ]
  },
  {
   "cell_type": "code",
   "execution_count": 16,
   "metadata": {},
   "outputs": [],
   "source": [
    "def paths_with_sum(binary_tree, target_sum):\n",
    "    \n",
    "    def _paths_with_sum(node, goal, tracker):\n",
    "        if not node:\n",
    "            return []\n",
    "        next_paths = dict({goal: [[]]})\n",
    "        for sum_of_path, paths in tracker.items():\n",
    "            for path in paths:\n",
    "                i = sum_of_path - node.val\n",
    "                if i not in next_paths: #If not already in dict, create new entry\n",
    "                    next_paths[i] = []\n",
    "                next_paths[i] += [path + [node.key]] \n",
    "        paths = next_paths[0] if 0 in next_paths else [] \\\n",
    "              + _paths_with_sum(node.left, target_sum, next_paths) \\\n",
    "              + _paths_with_sum(node.right, target_sum, next_paths) #Recursively count the number of paths each way\n",
    "        return paths    \n",
    "    \n",
    "    root = binary_tree.root\n",
    "    partial_paths = dict({target_sum: [[]]})\n",
    "    return _paths_with_sum(root, target_sum, partial_paths)"
   ]
  },
  {
   "cell_type": "markdown",
   "metadata": {},
   "source": [
    "**Unit Tests:**"
   ]
  },
  {
   "cell_type": "code",
   "execution_count": 17,
   "metadata": {},
   "outputs": [
    {
     "name": "stderr",
     "output_type": "stream",
     "text": [
      "............\n",
      "----------------------------------------------------------------------\n",
      "Ran 12 tests in 0.012s\n",
      "\n",
      "OK\n"
     ]
    }
   ],
   "source": [
    "import unittest, math, random\n",
    "\n",
    "class Test(unittest.TestCase):\n",
    "    def test_route_between_nodes(self):\n",
    "        vertices = [0,1,2,3]\n",
    "        edges = [(0,1), (0, 2), (1, 2), (2, 0), (2, 3), (3, 3)]\n",
    "        g = build_graph(vertices, edges)\n",
    "        u, v = g.vertices[1], g.vertices[3]\n",
    "        self.assertTrue(route_between_nodes(g, u, v))\n",
    "    def test_minimal_tree(self):\n",
    "        node_count = 15\n",
    "        input = MinimalTree([i for i in range(node_count)])\n",
    "        self.assertTrue(input.max_depth() - 1 <= math.ceil(math.log2(node_count)))\n",
    "    def test_list_of_depths(self):\n",
    "        input = BinarySearchTree()\n",
    "        input.put([8,4,12,2,6,10,14,1,3,7,9])\n",
    "        result = \"8 | 4 => 12 | 2 => 6 => 10 => 14 | 1 => 3 => 7 => 9\"\n",
    "        self.assertEqual(string_builder(list_of_depths(input)), result)\n",
    "    def test_check_balanced(self):\n",
    "        input = BinarySearchTree()\n",
    "        input.put([8,4,12,2,6,10,14,1,3,7,9])\n",
    "        self.assertTrue(check_balanced(input)) \n",
    "        input.root.left.left.left.left = BinaryTreeNode(11) #Make tree unbalanced\n",
    "        input.root.left.left.left.left.left = BinaryTreeNode(12)\n",
    "        self.assertFalse(check_balanced(input)) \n",
    "    def test_validate_bst(self):\n",
    "        non_bst = MinimalTree([7,3,1,8,9,11]) #Unsorted \n",
    "        self.assertFalse(validate_bst(non_bst))\n",
    "        bst = MinimalTree([i for i in range(10)]) #Sorted \n",
    "        self.assertTrue(validate_bst(bst))\n",
    "    def test_successor(self):\n",
    "        input = ParentBinarySearchTree()\n",
    "        input.put([2,5,1,6,7])\n",
    "        self.assertEqual(successor(input, input.root.left), input.root)\n",
    "        self.assertEqual(successor(input, input.root.right.right), input.root.right.right.right)\n",
    "    def test_build_order(self):\n",
    "        projects = [1,2,3,4,5]\n",
    "        dependencies = [ (1,2), (3,4), (1,5), (4,1), (3,2) ]\n",
    "        self.assertEqual(build_order(projects, dependencies), [3, 4, 1, 5, 2])\n",
    "    def test_first_common_ancestor(self):\n",
    "        input = MinimalTree()\n",
    "        input.put_sorted_array([i for i in range(10)])\n",
    "        self.assertEqual(first_common_ancestor(input, input.root.left.left, input.root.left.right), input.root.left)\n",
    "    def test_bst_sequence(self):\n",
    "        input = BinarySearchTree()\n",
    "        input.put([2,1,3,4])\n",
    "        result = [[2, 1, 3, 4], [2, 3, 1, 4], [2, 3, 4, 1]]\n",
    "        self.assertEqual(bst_sequences(input), result)\n",
    "    def test_check_subtree(self):\n",
    "        input_1 = BinarySearchTree()\n",
    "        input_1.put([1, 2, 3])\n",
    "        input_2 = BinarySearchTree()\n",
    "        input_2.put([1,2,3])\n",
    "        self.assertTrue(check_subtree(input_1, input_2))\n",
    "        input_3 = BinarySearchTree()\n",
    "        input_3.put([1,2,5])\n",
    "        self.assertFalse(check_subtree(input_1, input_3))\n",
    "    def test_random_node(self):\n",
    "        m = RandomBinaryTree()\n",
    "        m.put([1,2,3,4,5])\n",
    "        self.assertEqual(m.getRandomNode(1).val, 2)\n",
    "        self.assertEqual(m.getRandomNode(3).val, 4)\n",
    "    def test_paths_with_sum(self):\n",
    "        input = KeyBinarySearchTree()\n",
    "        input.put([(\"A\", 4),(\"B\", 2),(\"C\", 6),(\"D\", 1),(\"E\", 1), (\"F\", -1)])\n",
    "        self.assertEqual(paths_with_sum(input, 6), [['A', 'B'], ['C']])\n",
    "    \n",
    "if __name__ == \"__main__\":\n",
    "    unittest.main(argv=['first-arg-is-ignored'], exit=False)"
   ]
  }
 ],
 "metadata": {
  "kernelspec": {
   "display_name": "Python 3",
   "language": "python",
   "name": "python3"
  },
  "language_info": {
   "codemirror_mode": {
    "name": "ipython",
    "version": 3
   },
   "file_extension": ".py",
   "mimetype": "text/x-python",
   "name": "python",
   "nbconvert_exporter": "python",
   "pygments_lexer": "ipython3",
   "version": "3.7.1"
  }
 },
 "nbformat": 4,
 "nbformat_minor": 2
}
