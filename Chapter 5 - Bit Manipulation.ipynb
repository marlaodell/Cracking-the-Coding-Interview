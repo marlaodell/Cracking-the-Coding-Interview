{
 "cells": [
  {
   "cell_type": "markdown",
   "metadata": {},
   "source": [
    "# Chapter 5 - Bit Manipulation\n",
    "Marla Odell"
   ]
  },
  {
   "cell_type": "markdown",
   "metadata": {},
   "source": [
    "**(5.1) Insertion:** You are given two 32-bit numbers, N and M, and two bit positions, i and j. Write a method to insert M into N such that M starts at bit j and ends at bit i. You can assume that the bits j through i have enough space to fit all of M. That is, if M = 10011, you can assume that there are at least 5 bits between j and i. You would not, for example, have j = 3 and i = 2, because M could not fully fit between bit 3 and bit 2."
   ]
  },
  {
   "cell_type": "code",
   "execution_count": 10,
   "metadata": {},
   "outputs": [],
   "source": [
    "def insertion(N, M, i, j):\n",
    "    blank_range = (N & ((~0 << (j + 1)) | ((1 << i) - 1))) #Zeros between i and j\n",
    "    shifted = (M << i) #Shift M into range\n",
    "    return shifted | blank_range #Merge"
   ]
  },
  {
   "cell_type": "markdown",
   "metadata": {},
   "source": [
    "**(5.2) Binary to String:** Given a real number between 0 and 1 (e.g., 0.72) that is passed in as a double, print the binary representation. If the number cannot be represented accurately in binary with at most 32 characters, print \"ERROR.\""
   ]
  },
  {
   "cell_type": "code",
   "execution_count": 11,
   "metadata": {},
   "outputs": [],
   "source": [
    "def binary_to_string(n): \n",
    "    answer = \"0.\" \n",
    "    while(n > 0): \n",
    "        if(len(answer) >= 32): #Bounding at 32 characters\n",
    "            return \"ERROR\"\n",
    "        n *= 2\n",
    "        if (n >= 1): #Set next digit\n",
    "            answer += \"1\"\n",
    "            n -= 1\n",
    "        else: \n",
    "            answer += \"0\"\n",
    "    return answer "
   ]
  },
  {
   "cell_type": "markdown",
   "metadata": {},
   "source": [
    "**(5.3) Flip Bit to Win:** You have an integer and you can flip exactly one bit from a 0 to a 1. Write code to find the length of the longest sequence of 1 s you could create."
   ]
  },
  {
   "cell_type": "code",
   "execution_count": 12,
   "metadata": {},
   "outputs": [],
   "source": [
    "def flip_bit_to_win(integer): \n",
    "    current = 0; \n",
    "    previous = 0;  \n",
    "    max_length = 0; \n",
    "    while (integer > 0): \n",
    "        if ((integer & 1) == 1): \n",
    "            current += 1 \n",
    "        else: \n",
    "            if ((integer & 2) == 0):\n",
    "                previous = 0\n",
    "            else:\n",
    "                previous = current\n",
    "            current = 0 \n",
    "        max_length = max(previous + current + 1,  max_length)\n",
    "        integer >>= 1 #Shift right\n",
    "    return max_length"
   ]
  },
  {
   "cell_type": "markdown",
   "metadata": {},
   "source": [
    "**(5.4) Next Number:** Given a positive integer, print the next smallest and the next largest number that have the same number of 1 bits in their binary representation."
   ]
  },
  {
   "cell_type": "code",
   "execution_count": 13,
   "metadata": {},
   "outputs": [],
   "source": [
    "def next_bigger(integer): \n",
    "    holder = integer \n",
    "    n0, n1 = 0, 0 #Counters for the number of of zeros and ones on the right\n",
    "    while (((holder & 1) == 0) and (holder != 0)): \n",
    "        n0 += 1\n",
    "        holder >>= 1\n",
    "    while ((holder & 1) == 1): \n",
    "        n1 += 1\n",
    "        holder >>= 1\n",
    "    if (n0 + n1 == 31 or n0 + n1 == 0):\n",
    "        return -1\n",
    "    integer |= (1 << n0 + n1) #Flip rightmost non-trailing zero\n",
    "    integer &= ~((1 << n0 + n1) - 1) #Clear from the rightmost non-trailing  zero\n",
    "    integer |= (1 << (n1 - 1)) - 1 #Insert (n1-1) ones\n",
    "    return integer \n",
    "\n",
    "def prev_smaller(integer):\n",
    "    holder = integer\n",
    "    n0, n1 = 0, 0\n",
    "    while ((holder & 1) == 1):\n",
    "        n1 += 1\n",
    "        holder >>= 1\n",
    "    while (holder != 0 and (holder & 1) == 0):\n",
    "        n0 += 1\n",
    "        holder >>= 1\n",
    "    if holder == 0:\n",
    "        return -1\n",
    "    integer &= (~0 << (n0 + n1 + 1)) #Clears from from the rightmost non-trailing one\n",
    "    integer |= (((1 << (n1 + 1)) - 1) << (n0 - 1)) #Insert (n1+1) ones\n",
    "    return integer\n",
    "\n",
    "def next_number(integer):\n",
    "    return(prev_smaller(integer), (next_bigger(integer)))"
   ]
  },
  {
   "cell_type": "markdown",
   "metadata": {},
   "source": [
    "**(5.5) Debugger:** Explain what the following code does: ```((n & (n-1)) == 0)```."
   ]
  },
  {
   "cell_type": "code",
   "execution_count": 14,
   "metadata": {},
   "outputs": [],
   "source": [
    "def check_pow_of_2(n): \n",
    "    return ((n & (n-1)) == 0) #Checks if n is a power of 2 (or is 0)"
   ]
  },
  {
   "cell_type": "markdown",
   "metadata": {},
   "source": [
    "**(5.6) Conversion:** Write a function to determine the number of bits you would need to flip to convert integer A to integer B."
   ]
  },
  {
   "cell_type": "code",
   "execution_count": 15,
   "metadata": {},
   "outputs": [],
   "source": [
    "def conversion(A, B): \n",
    "    different = A ^ B #XOR pulls out flipped bits\n",
    "    count = 0\n",
    "    while different: #Counts the number of fipped bits (i.e., ones)\n",
    "        count += different & 1\n",
    "        different >>= 1\n",
    "    return count "
   ]
  },
  {
   "cell_type": "markdown",
   "metadata": {},
   "source": [
    "**(5.7) PairwiseSwap:** Write a program to swap odd and even bits in an integer with as few instructions as possible (e.g., bit 0 and bit 1 are swapped, bit 2 and bit 3 are swapped, and so on)."
   ]
  },
  {
   "cell_type": "code",
   "execution_count": 16,
   "metadata": {},
   "outputs": [],
   "source": [
    "def pairwise_swap(integer):\n",
    "    #Right shift even bits, left shift odd bits, merge together\n",
    "    return ((integer & 0xAAAAAAAA) >> 1) | ((integer & 0x55555555) << 1)"
   ]
  },
  {
   "cell_type": "markdown",
   "metadata": {},
   "source": [
    "**(5.8) Draw Line:** A monochrome screen is stored as a single array of bytes, allowing eight consecutive pixels to be stored in one byte.The screen has width w, where w is divisible by 8 (that is, no byte will be split across rows). The height of the screen, of course, can be derived from the length of the array and the width. Implement a function that draws a horizontal line from (x1, y) to (x2, y).The method signature should look something like: ```drawLine(byte[] screen, int width, int x l , int x2, int y)```."
   ]
  },
  {
   "cell_type": "code",
   "execution_count": 17,
   "metadata": {},
   "outputs": [],
   "source": [
    "def drawLine(screen, width, x1, x2, y):\n",
    "    \n",
    "    def _full_fill(): #Completely covers byte\n",
    "        for i in range(first_full, last_full + 1):\n",
    "            screen[y * (byte_width) + i] = int('0xff', 16)\n",
    "            \n",
    "    def _partial_fill():\n",
    "        if first_full == last_full: #Contained within the same byte\n",
    "            screen[y * (byte_width) + first_full] |= (left_mask & right_mask)\n",
    "            return screen\n",
    "        else: #Starts / ends mid-byte\n",
    "            if left_offset != 0:\n",
    "                screen[y * (byte_width) + first_full - 1] |= left_mask\n",
    "            if right_offset != 7:\n",
    "                screen[y * (byte_width) + last_full + 1] |= right_mask\n",
    "            \n",
    "    byte_width = width // 8\n",
    "    left_offset = x1 % 8\n",
    "    right_offset = x2 % 8\n",
    "    first_full = x1 // 8 if (left_offset == 0) else x1 // 8 + 1\n",
    "    last_full = x1 // 8 if (right_offset == 7) else x1 // 8 -1\n",
    "    left_mask = int('0xff', 16) >> left_offset\n",
    "    right_mask = ~(int('0xff', 16) >> (right_offset + 1))\n",
    "    \n",
    "    _full_fill()\n",
    "    _partial_fill()\n",
    "    \n",
    "    return screen"
   ]
  },
  {
   "cell_type": "markdown",
   "metadata": {},
   "source": [
    "**Unit tests:**"
   ]
  },
  {
   "cell_type": "code",
   "execution_count": 18,
   "metadata": {},
   "outputs": [
    {
     "name": "stderr",
     "output_type": "stream",
     "text": [
      "........\n",
      "----------------------------------------------------------------------\n",
      "Ran 8 tests in 0.015s\n",
      "\n",
      "OK\n"
     ]
    }
   ],
   "source": [
    "import unittest\n",
    "\n",
    "class Test(unittest.TestCase):\n",
    "    def test_insertion(self):\n",
    "        N, M = 0b11111111, 0b10\n",
    "        i, j = 2, 5\n",
    "        self.assertEqual(insertion(N,M,i,j), 0b11001011)\n",
    "    def test_binary_to_string(self):\n",
    "        self.assertEqual(binary_to_string(.75), \"0.11\")\n",
    "    def test_flip_bit_to_win(self):\n",
    "        self.assertEqual(flip_bit_to_win(0b11011101111), 8)\n",
    "    def test_next_number(self):\n",
    "        self.assertEqual(next_number(9), (6,10))\n",
    "    def test_check_pow_of_2(self):\n",
    "        pow_of_2 = []\n",
    "        for i in range(10):\n",
    "            if check_pow_of_2(i):\n",
    "                pow_of_2 += [i]\n",
    "        self.assertEqual(pow_of_2, [0,1,2,4,8])\n",
    "    def test_conversion(self):\n",
    "        a, b = 29, 15\n",
    "        self.assertEqual(conversion(a, b), 2) \n",
    "    def test_pairwise_swap(self):\n",
    "        self.assertEqual(pairwise_swap(23),43)\n",
    "    def test_drawLine(self):\n",
    "        screen = [0 for i in range(4)]\n",
    "        self.assertEqual(drawLine(screen, 16, 0, 2, 1), [0b0, 0b0, -0b100000, 0b0])\n",
    "\n",
    "if __name__ == \"__main__\":\n",
    "    unittest.main(argv=['first-arg-is-ignored'], exit=False)"
   ]
  }
 ],
 "metadata": {
  "kernelspec": {
   "display_name": "Python 3",
   "language": "python",
   "name": "python3"
  },
  "language_info": {
   "codemirror_mode": {
    "name": "ipython",
    "version": 3
   },
   "file_extension": ".py",
   "mimetype": "text/x-python",
   "name": "python",
   "nbconvert_exporter": "python",
   "pygments_lexer": "ipython3",
   "version": "3.7.1"
  }
 },
 "nbformat": 4,
 "nbformat_minor": 2
}
